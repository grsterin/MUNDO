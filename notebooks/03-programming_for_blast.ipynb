{
 "cells": [
  {
   "cell_type": "markdown",
   "metadata": {},
   "source": [
    "<img src=\"../images/JHI_STRAP_Web.png\" style=\"width: 150px; float: right;\">\n",
    "# 03 - Using `BLAST+` Programmatically with Biopython"
   ]
  },
  {
   "cell_type": "markdown",
   "metadata": {},
   "source": [
    "## Learning Outcomes\n",
    "\n",
    "* Use of local `BLAST+` using Python and Biopython in the Jupyter notebook\n",
    "* Creating a `BLAST+` command line object in Biopython, and its similarities with running `BLAST+` at the terminal\n",
    "* Reading `BLAST+` output into a Python variable\n",
    "* Computational analysis and visualisation of `BLAST+` output"
   ]
  },
  {
   "cell_type": "markdown",
   "metadata": {},
   "source": [
    "## Table of Contents\n",
    "\n",
    "1. [Introduction](#introduction)\n",
    "2. [Python imports](#imports)\n",
    "3. [Running and analysing a local BLASTX search](#blastx)\n",
    "  1. [Run `BLASTX`](#runblastx)\n",
    "  2. [Load `BLASTX` results](#loadresults)\n",
    "  3. [Exercise 01](#ex01)"
   ]
  },
  {
   "cell_type": "markdown",
   "metadata": {},
   "source": [
    "<a id=\"introduction\"></a>\n",
    "## Introduction\n",
    "\n",
    "This notebook presents examples of methods for using `BLAST` programmatically, with a local installation of `BLAST`.\n",
    "\n",
    "It can be very convenient to use a web BLAST in the browser - such as the [NCBI interface](https://blast.ncbi.nlm.nih.gov/Blast.cgi), or a project-specific instance (like this one at the [PGSC](http://solanaceae.plantbiology.msu.edu/blast.shtml)) - for `BLAST` searches, but there can be limitations to this approach.\n",
    "\n",
    "It may not be practical to submit a large number of simultaneous queries via a web form, either because the interface prevents this, or because it is tiresome to point-and-click over and over again. It may be that the interface does not make it easy to change custom options that you might want to modify to help refine your query. It could be the case that the web database does not contain sequences that you are interested in searching against (if, for example, some of the sequences are proprietary), or it might not be constrained to a relevant set of organisms, so the search might take much longer than it needs to for your purposes. If you need to repeat a query, it can be awkward to get the same settings every time, and it is possible to forget options from search to search; also the returned result may not describe how or when the search was run.\n",
    "\n",
    "<p></p>\n",
    "<div class=\"alert-success\">\n",
    "<b>Using a programmatic approach to submitting `BLAST` queries provides a number of potential advantages</b>\n",
    "</div>\n",
    "\n",
    "* It is easy to set up repeatable searches for many sequences, or collections of sequences\n",
    "* It is easy to read in the search results and conduct downstream analyses that add value to your search\n",
    "* The same code can be readily adapted to different BLAST instances, databases, and servers\n",
    "\n",
    "The code that we develop in this notebook will be adapted for use in the next notebook: `04-programming_web_blast`, but we focus on a local installation now to understand the main principles."
   ]
  },
  {
   "cell_type": "markdown",
   "metadata": {},
   "source": [
    "<a id=\"imports\"></a>\n",
    "## Python imports\n",
    "\n",
    "To interact with the local installation of `BLAST`, we will use the free `Biopython` programming tools. These provide an interface to interact with `BLAST`, run jobs, and to read in the output files. To use these tools, we need to *import* them. We will need tools to perform specific functions:\n",
    "\n",
    "* to work with file paths, we will use the built-in `os` module.\n",
    "* to collate the `BLAST` search results as dataframes/tables for analysis, we will use the `pandas` package.\n",
    "* to graph the downstream results, we will use the `seaborn` visualisation package.\n",
    "* to create command lines for `BLAST`, we will use the `Bio.Blast.Applications` module from `Biopython`.\n",
    "\n",
    "We import these tools, and some standard library packages for working with files (`os`) below."
   ]
  },
  {
   "cell_type": "code",
   "execution_count": null,
   "metadata": {},
   "outputs": [],
   "source": [
    "# Show plots as part of the notebook (this is a Jupyter-specific operation)\n",
    "%matplotlib inline\n",
    "import matplotlib.pyplot as plt\n",
    "\n",
    "# Standard library packages\n",
    "import os\n",
    "\n",
    "# Import Pandas and Seaborn\n",
    "import pandas as pd\n",
    "import seaborn as sns\n",
    "\n",
    "# Import Biopython tools for running local BLASTX\n",
    "from Bio.Blast.Applications import NcbiblastxCommandline"
   ]
  },
  {
   "cell_type": "markdown",
   "metadata": {},
   "source": [
    "<a id=\"blastx\"></a>\n",
    "## Running and analysing a local BLASTX search\n",
    "\n",
    "<p></p>\n",
    "<div class=\"alert-success\">\n",
    "<b>As a first worked example, you will run a local `BLASTX` search, querying a nucleotide sequence against a local protein database, to identify potential homologues.</b>\n",
    "</div>\n",
    "\n",
    "* The database comprises predicted gene products from five *Kitasatospora* genomes\n",
    "* The query is a single nucleotide sequence of a predicted penicillin-binding protein from *Kitasatospora* sp. CB01950\n",
    "\n",
    "You will use Python/`biopython` in the code blocks below to first perform the `BLASTX` search, then parse the results into a `pandas` dataframe, and finally plot some summary statistics using `seaborn`."
   ]
  },
  {
   "cell_type": "markdown",
   "metadata": {},
   "source": [
    "<a id=\"runblastx\"></a>\n",
    "### Run `BLASTX`\n",
    "\n",
    "<p></p>\n",
    "<div class=\"alert-success\">\n",
    "<b>There are two steps to running a `BLAST` command line with `biopython`.</b>\n",
    "</div>\n",
    "\n",
    "1. Create the command-line object\n",
    "2. Run the command-line object\n",
    "\n",
    "To create the command-line, you need to provide the same information as if you were running `BLAST` at the terminal: the location of the query sequence file, the location of the database, and any arguments that modify the type of `BLAST` search we are running.\n",
    "\n",
    "Firstly, you will define two variables that contain the paths to the input data, and the location you want to place the `BLAST` output file. Then you will define variables that contain paths to: the input query sequence file; the database you're searching against; and the file containing `BLAST` output"
   ]
  },
  {
   "cell_type": "code",
   "execution_count": null,
   "metadata": {},
   "outputs": [],
   "source": [
    "# Define paths to input and output directories\n",
    "datadir = os.path.join('data', 'kitasatospora')   # input\n",
    "outdir = os.path.join('output', 'kitasatospora')  # output\n",
    "os.makedirs(outdir, exist_ok=True)                # create output directory if it doesn't exist\n",
    "\n",
    "# Define paths to input and output file\n",
    "# - query: 'k_sp_CB01950_penicillin.fasta'\n",
    "# - db: 'kitasatospora_proteins.faa'\n",
    "# - blastout: 'AMK19_00175_blastx_kitasatospora.tab'"
   ]
  },
  {
   "cell_type": "markdown",
   "metadata": {},
   "source": [
    "<div class=\"alert-danger\">\n",
    "When using a Jupyter notebook, if you ever forget how exactly to use a Python function or class, you can use Python's inbuilt `help()` system. We use this in the cell below to get information on how to construct a `BLASTX` command, using the `NcbiblastxCommandline` object imported above:\n",
    "</div>"
   ]
  },
  {
   "cell_type": "code",
   "execution_count": null,
   "metadata": {},
   "outputs": [],
   "source": [
    "# Get help with how to construct the command-line"
   ]
  },
  {
   "cell_type": "markdown",
   "metadata": {},
   "source": [
    "The information above tells how to pass the paths to the query sequence, database, and how to specify other values to control `BLASTX`, e.g.:\n",
    "\n",
    "```python\n",
    "cline = NcbiblastxCommandline(query=\"m_cold.fasta\", db=\"nr\", evalue=0.001)\n",
    "```\n",
    "\n",
    "<p></p>\n",
    "<div class=\"alert-success\">\n",
    "<b>Now you will use this information to create a command-line object in the variable `cmd_blastx` that you can use to run our `BLASTX` query.</b>\n",
    "</div>\n",
    "\n",
    "You will provide the locations of the query sequence (the penicillin-binding protein), the database you're searching against (the proteins from five other *Kitosatospora* species), and a location to write the output. \n",
    "\n",
    "<p></p>\n",
    "<div class=\"alert-warning\">\n",
    "<b>You will also specify the output format you require, with the option `outfmt=6`. This asks `BLASTX` to write a tab-separated tabular plain text file. This differs from the usual human-readable output you may be used to, but is particularly convenient for automated processing.</b>\n",
    "</div>"
   ]
  },
  {
   "cell_type": "code",
   "execution_count": null,
   "metadata": {},
   "outputs": [],
   "source": [
    "# Create command-line for BLASTX\n",
    "# (query, blastout, 6, db)"
   ]
  },
  {
   "cell_type": "markdown",
   "metadata": {},
   "source": [
    "The `cmd_blastx` object now contains instructions that are equivalent to running `BLASTX` at the command-line. We can even get it to print out a command-line that we could copy-and-paste into the terminal, to run the search:"
   ]
  },
  {
   "cell_type": "code",
   "execution_count": null,
   "metadata": {},
   "outputs": [],
   "source": [
    "# Print the working command-line"
   ]
  },
  {
   "cell_type": "markdown",
   "metadata": {},
   "source": [
    "You don't need to use the terminal at all, though. You can run the `BLASTX` search from Python, by *calling* the `cmd_blastx` object, with:\n",
    "\n",
    "```python\n",
    "cmd_blastx()\n",
    "```\n",
    "\n",
    "<p></p>\n",
    "<div class=\"alert-warning\">\n",
    "<b>Although the code above is the <i>simplest</i> way to run the command, it can be worth doing something slightly more complex.</b>\n",
    "<p></p>\n",
    "Any Linux command can place information into two special <i>streams</i>: `STDOUT` and `STDERR` (pronounced 'standard-out' and 'standard-error'). As you might expect, `STDOUT` gets 'output', and errors are reported to `STDERR`. It is good practice to 'catch' these streams, and check them for reports from the program that's being run.\n",
    "</div>"
   ]
  },
  {
   "cell_type": "code",
   "execution_count": null,
   "metadata": {},
   "outputs": [],
   "source": [
    "# Run BLASTX, and catch STDOUT/STDERR\n",
    "# !! Do not execute cell if skipping computation !!\n",
    "\n",
    "# Check STDOUT, STDERR\n",
    "print(\"STDOUT: %s\" % stdout)\n",
    "print(\"STDERR: %s\" % stderr)"
   ]
  },
  {
   "cell_type": "markdown",
   "metadata": {},
   "source": [
    "If everything has worked, there should be no information in either `STDOUT` or `STDERR`. You should, however now see a file named `AMK19_00175_blastx_kitasatospora.tab` in the `output/kitasatospora` directory. This file contains your `BLASTX` search results, and we shall import and inspect these in the next section."
   ]
  },
  {
   "cell_type": "markdown",
   "metadata": {},
   "source": [
    "<a id=\"loadresults\"></a>\n",
    "### Load `BLASTX` results\n",
    "\n",
    "We have already defined a variable called `blastout` that holds the `BLASTX` search output, so we can use this when we load the data.\n",
    "\n",
    "<p></p>\n",
    "<div class=\"alert-success\">\n",
    "<b>`Pandas` is a Python module that provides a dataframe structure, like that used in `R`, which is highly convenient for statistics and data analysis. Many powerful operations come built-in with `pandas`, and we will barely scratch the surface of its utility on this course. We will use it here to load in and inspect the `BLASTX` results that we've just generated.</b>\n",
    "</div>\n",
    "\n",
    "<p></p>\n",
    "<div class=\"alert-warning\">\n",
    "<b>First, you need to load the tab-separated data that describes the search results you just generated. You will do this with the `read_csv()` function from `pandas`, and put the results into the variable `results`. To make sure that the data is read correctly, you need to tell the function that the symbol which separates columns is a 'tab' (`sep=\"\\t\"`), and that there is no column header information provided (`header=None`).</b>\n",
    "</div>"
   ]
  },
  {
   "cell_type": "code",
   "execution_count": null,
   "metadata": {},
   "outputs": [],
   "source": [
    "# !! If you are skipping computational steps, uncomment the line below !!\n",
    "#blastout = os.path.join('prepped', 'kitasatospora', 'AMK19_00175_blastx_kitasatospora.tab')  # BLAST output\n",
    "\n",
    "# Read BLASTX output into 'results'"
   ]
  },
  {
   "cell_type": "markdown",
   "metadata": {},
   "source": [
    "Jupyter notebooks integrate well with `pandas` dataframes, and it is straightforward to see the first few rows of the results table, by using the dataframe's `head()` method:"
   ]
  },
  {
   "cell_type": "code",
   "execution_count": null,
   "metadata": {},
   "outputs": [],
   "source": [
    "# Inspect first few lines of results table"
   ]
  },
  {
   "cell_type": "markdown",
   "metadata": {},
   "source": [
    "You should see that the table, like the output file, contains 11 columns. It also contains an additional `index` (on the left), which uniquely labels each row of the table.\n",
    "\n",
    "<p></p>\n",
    "<div class=\"alert-warning\">\n",
    "<b>The table is not as useful as it could be, because it doesn't inform us about the contents of each column. To rectify this we can create column headers, and to do this you will define a `list` of column names, then assign that *list* to the `results` dataframe's `columns` attribute:</b>\n",
    "</div>"
   ]
  },
  {
   "cell_type": "code",
   "execution_count": null,
   "metadata": {},
   "outputs": [],
   "source": [
    "# Define column headers\n",
    "headers = ['query', 'subject',\n",
    "           'pc_identity', 'aln_length', 'mismatches', 'gaps_opened',\n",
    "           'query_start', 'query_end', 'subject_start', 'subject_end',\n",
    "           'e_value', 'bitscore']\n",
    "\n",
    "# Assign headers (results.columns)\n",
    "\n",
    "# Inspect modified table"
   ]
  },
  {
   "cell_type": "markdown",
   "metadata": {},
   "source": [
    "Now the results are a little more readable. You can also use these column names directly to work with the information in them.\n",
    "\n",
    "You can, for example, obtain a summary of the information in the table with the dataframe's `.describe()` method:"
   ]
  },
  {
   "cell_type": "code",
   "execution_count": null,
   "metadata": {},
   "outputs": [],
   "source": [
    "# Show a summary of the results table data (.describe())"
   ]
  },
  {
   "cell_type": "markdown",
   "metadata": {},
   "source": [
    "You can also extract and work with specific columns, by naming them:"
   ]
  },
  {
   "cell_type": "code",
   "execution_count": null,
   "metadata": {},
   "outputs": [],
   "source": [
    "# Show all subject matches (['subject])"
   ]
  },
  {
   "cell_type": "code",
   "execution_count": null,
   "metadata": {},
   "outputs": [],
   "source": [
    "# Create a new column describing how long the alignment is on the query sequence\n",
    "# abs(results['query_end'] - results['query_start']) + 1"
   ]
  },
  {
   "cell_type": "code",
   "execution_count": null,
   "metadata": {},
   "outputs": [],
   "source": [
    "# Add qaln_length to the results table as a new column (['qaln_length'])\n",
    "# and show first few lines"
   ]
  },
  {
   "cell_type": "markdown",
   "metadata": {},
   "source": [
    "Dataframes also have a `.plot.<plot_type>()` method, which lets us plot information from the table directly.\n",
    "\n",
    "For example, to generate a scatterplot, we can use:\n",
    "\n",
    "```python\n",
    "results.plot.scatter(<X_AXIS>, <Y_AXIS>)\n",
    "```\n",
    "\n",
    "where we replace `<X_AXIS>` and `<Y_AXIS>` with the names of the columns we want to see on those axes, as below."
   ]
  },
  {
   "cell_type": "code",
   "execution_count": null,
   "metadata": {},
   "outputs": [],
   "source": [
    "# Create a scatterplot (.plot.scatter('pc_identity', 'e_value')"
   ]
  },
  {
   "cell_type": "markdown",
   "metadata": {},
   "source": [
    "<img src=\"../images/exercise.png\" style=\"width: 100px; float: left;\">\n",
    "<a id=\"ex01\"></a>\n",
    "### Exercise 01 (10min)\n",
    "\n",
    "There is a second `BLASTX` query file in the directory `data/kitasatospora`, called `lantibiotic.fasta`. It describes the CDS for a suspected lantibiotic synthesis protein. To begin the analysis with this sequence, can you do the following?\n",
    "\n",
    "<p></p>\n",
    "<div class=\"alert-danger\">\n",
    "<ul>\n",
    "<li> Create a `BLASTX` command-line to query the lantibiotic synthesis CDS against the <i>Kitasatospora</i> protein database, and write the output to a new file called `lantibiotic_blastx_kitasatospora.tab` in the output directory `output/kitasatospora`.\n",
    "<li> Run the `BLASTX` search, capturing the `STDERR` and `STDOUT` streams\n",
    "<li> Load the `BLASTX` results into a new dataframe\n",
    "<li> Create a plot of percentage identity against bit score\n",
    "</ul>\n",
    "</div>"
   ]
  },
  {
   "cell_type": "code",
   "execution_count": null,
   "metadata": {},
   "outputs": [],
   "source": [
    "# SOLUTION - EXERCISE 01\n",
    "# !! Do not execute this cell if skipping computational step !!\n",
    "\n",
    "# We can reuse the directories and db, but need to define new input/output filenames\n",
    "\n",
    "# Create command-line for BLASTX\n",
    "\n",
    "# Run BLASTX, and catch STDOUT/STDERR\n",
    "\n",
    "# Check STDOUT, STDERR\n",
    "print(\"STDOUT: %s\" % stdout)\n",
    "print(\"STDERR: %s\" % stderr)"
   ]
  },
  {
   "cell_type": "code",
   "execution_count": null,
   "metadata": {},
   "outputs": [],
   "source": [
    "# CHECK THE EXERCISE RESULTS\n",
    "# !! Uncomment the line below, if skipping computational step !!\n",
    "# blastout = os.path.join('prepped', 'kitasatospora', 'lantibiotic_blastx_kitasatospora.tab')\n",
    "\n",
    "# Read BLASTX output, and reuse the column headers defined earlier\n",
    "results = pd.read_csv(blastout, sep=\"\\t\", header=None)\n",
    "results.columns = headers\n",
    "\n",
    "# Create a scatterplot\n",
    "results.plot.scatter('bitscore', 'pc_identity')\n",
    "plt.title(\"%identity vs bitscore\");                                                  # add a title to the plot"
   ]
  }
 ],
 "metadata": {
  "kernelspec": {
   "display_name": "Python 3 (ipykernel)",
   "language": "python",
   "name": "python3"
  },
  "language_info": {
   "codemirror_mode": {
    "name": "ipython",
    "version": 3
   },
   "file_extension": ".py",
   "mimetype": "text/x-python",
   "name": "python",
   "nbconvert_exporter": "python",
   "pygments_lexer": "ipython3",
   "version": "3.7.12"
  }
 },
 "nbformat": 4,
 "nbformat_minor": 2
}
