{
 "cells": [
  {
   "cell_type": "code",
   "execution_count": 3,
   "id": "9db4b2ea",
   "metadata": {},
   "outputs": [
    {
     "name": "stdout",
     "output_type": "stream",
     "text": [
      "[Errno 2] No such file or directory: '../binaries/ncbi-blast-2.13.0+/bin'\n",
      "/home/kapil/Documents/Research/UNI-MUNDO/binaries/ncbi-blast-2.13.0+/bin\n"
     ]
    }
   ],
   "source": [
    "%cd ../binaries/ncbi-blast-2.13.0+/bin"
   ]
  },
  {
   "cell_type": "code",
   "execution_count": 6,
   "id": "08e6e39f",
   "metadata": {},
   "outputs": [
    {
     "name": "stdout",
     "output_type": "stream",
     "text": [
      "total 69G\r\n",
      "drwxr-xr-x 2 kapil kapil 4.0K Jul  4 16:31 \u001b[0m\u001b[01;34m.\u001b[0m/\r\n",
      "drwxr-xr-x 4 kapil kapil 4.0K Jul  4 12:27 \u001b[01;34m..\u001b[0m/\r\n",
      "-rwxr-xr-x 1 kapil kapil  28M Feb  2 16:20 \u001b[01;32mblast_formatter\u001b[0m*\r\n",
      "-rwxr-xr-x 1 kapil kapil  33M Feb  2 16:20 \u001b[01;32mblast_formatter_vdb\u001b[0m*\r\n",
      "-rwxr-xr-x 1 kapil kapil  23M Feb  2 16:20 \u001b[01;32mblast_vdb_cmd\u001b[0m*\r\n",
      "-rwxr-xr-x 1 kapil kapil  19M Feb  2 16:20 \u001b[01;32mblastdb_aliastool\u001b[0m*\r\n",
      "-rwxr-xr-x 1 kapil kapil  20M Feb  2 16:20 \u001b[01;32mblastdbcheck\u001b[0m*\r\n",
      "-rwxr-xr-x 1 kapil kapil  25M Feb  2 16:20 \u001b[01;32mblastdbcmd\u001b[0m*\r\n",
      "-rwxr-xr-x 1 kapil kapil  28M Feb  2 16:20 \u001b[01;32mblastn\u001b[0m*\r\n",
      "-rwxr-xr-x 1 kapil kapil  33M Feb  2 16:20 \u001b[01;32mblastn_vdb\u001b[0m*\r\n",
      "-rwxr-xr-x 1 kapil kapil  28M Feb  2 16:20 \u001b[01;32mblastp\u001b[0m*\r\n",
      "-rwxr-xr-x 1 kapil kapil  28M Feb  2 16:20 \u001b[01;32mblastx\u001b[0m*\r\n",
      "-rwxr-xr-x 1 kapil kapil 6.1K Aug  7  2019 \u001b[01;32mcleanup-blastdb-volumes.py\u001b[0m*\r\n",
      "-rwxr-xr-x 1 kapil kapil  20M Feb  2 16:20 \u001b[01;32mconvert2blastmask\u001b[0m*\r\n",
      "-rwxr-xr-x 1 kapil kapil  28M Feb  2 16:20 \u001b[01;32mdeltablast\u001b[0m*\r\n",
      "-rwxr-xr-x 1 kapil kapil  19M Feb  2 16:20 \u001b[01;32mdustmasker\u001b[0m*\r\n",
      "-rwxr-xr-x 1 kapil kapil 4.7K May 12  2021 \u001b[01;32mget_species_taxids.sh\u001b[0m*\r\n",
      "-rwxr-xr-x 1 kapil kapil  51K May 26  2020 \u001b[01;32mlegacy_blast.pl\u001b[0m*\r\n",
      "-rwxr-xr-x 1 kapil kapil  21M Feb  2 16:20 \u001b[01;32mmakeblastdb\u001b[0m*\r\n",
      "-rwxr-xr-x 1 kapil kapil  19M Feb  2 16:20 \u001b[01;32mmakembindex\u001b[0m*\r\n",
      "-rwxr-xr-x 1 kapil kapil  21M Feb  2 16:20 \u001b[01;32mmakeprofiledb\u001b[0m*\r\n",
      "-rw-r--r-- 1 kapil kapil 161M Jul  1 02:35 nr.00.phd\r\n",
      "-rw-r--r-- 1 kapil kapil 3.6M Jul  1 02:35 nr.00.phi\r\n",
      "-rw-r--r-- 1 kapil kapil 2.1G Jul  1 02:34 nr.00.phr\r\n",
      "-rw-r--r-- 1 kapil kapil  69M Jul  1 05:02 nr.00.pin\r\n",
      "-rw-r--r-- 1 kapil kapil  35M Jul  1 02:35 nr.00.pog\r\n",
      "-rw-r--r-- 1 kapil kapil  69M Jul  1 02:34 nr.00.ppd\r\n",
      "-rw-r--r-- 1 kapil kapil 276K Jul  1 02:34 nr.00.ppi\r\n",
      "-rw-r--r-- 1 kapil kapil 3.3G Jul  1 02:34 nr.00.psq\r\n",
      "-rw-r--r-- 1 kapil kapil   47 Jul  4 15:56 nr.00.tar.gz.md5\r\n",
      "-rw-r--r-- 1 kapil kapil  569 Jul  1 07:24 nr.pal\r\n",
      "-rw-r--r-- 1 kapil kapil  40G Jul  1 07:23 nr.pdb\r\n",
      "-rw-r--r-- 1 kapil kapil  14G Jul  1 06:24 nr.pos\r\n",
      "-rw-r--r-- 1 kapil kapil 6.4G Jul  1 06:17 nr.pot\r\n",
      "-rw-r--r-- 1 kapil kapil 127M Jul  1 06:20 nr.ptf\r\n",
      "-rw-r--r-- 1 kapil kapil 2.7G Jul  1 06:20 nr.pto\r\n",
      "-rwxr-xr-x 1 kapil kapil  28M Feb  2 16:20 \u001b[01;32mpsiblast\u001b[0m*\r\n",
      "-rwxr-xr-x 1 kapil kapil  28M Feb  2 16:20 \u001b[01;32mrpsblast\u001b[0m*\r\n",
      "-rwxr-xr-x 1 kapil kapil  28M Feb  2 16:20 \u001b[01;32mrpstblastn\u001b[0m*\r\n",
      "-rwxr-xr-x 1 kapil kapil  19M Feb  2 16:20 \u001b[01;32msegmasker\u001b[0m*\r\n",
      "-rw-r--r-- 1 kapil kapil 152M Jul  3 07:45 taxdb.btd\r\n",
      "-rw-r--r-- 1 kapil kapil  16M Jul  3 07:45 taxdb.bti\r\n",
      "-rwxr-xr-x 1 kapil kapil  28M Feb  2 16:20 \u001b[01;32mtblastn\u001b[0m*\r\n",
      "-rwxr-xr-x 1 kapil kapil  33M Feb  2 16:20 \u001b[01;32mtblastn_vdb\u001b[0m*\r\n",
      "-rwxr-xr-x 1 kapil kapil  28M Feb  2 16:20 \u001b[01;32mtblastx\u001b[0m*\r\n",
      "-rwxr-xr-x 1 kapil kapil  26K Jun  2  2021 \u001b[01;32mupdate_blastdb.pl\u001b[0m*\r\n",
      "-rwxr-xr-x 1 kapil kapil  22M Feb  2 16:20 \u001b[01;32mwindowmasker\u001b[0m*\r\n"
     ]
    }
   ],
   "source": [
    "%ls -alh"
   ]
  },
  {
   "cell_type": "code",
   "execution_count": null,
   "id": "544b842c",
   "metadata": {},
   "outputs": [],
   "source": []
  }
 ],
 "metadata": {
  "kernelspec": {
   "display_name": "Python 3 (ipykernel)",
   "language": "python",
   "name": "python3"
  },
  "language_info": {
   "codemirror_mode": {
    "name": "ipython",
    "version": 3
   },
   "file_extension": ".py",
   "mimetype": "text/x-python",
   "name": "python",
   "nbconvert_exporter": "python",
   "pygments_lexer": "ipython3",
   "version": "3.7.12"
  }
 },
 "nbformat": 4,
 "nbformat_minor": 5
}
