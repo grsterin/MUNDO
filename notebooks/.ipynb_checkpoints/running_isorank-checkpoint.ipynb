{
 "cells": [
  {
   "cell_type": "markdown",
   "id": "af75ab84",
   "metadata": {},
   "source": [
    "## Imports"
   ]
  },
  {
   "cell_type": "code",
   "execution_count": 1,
   "id": "57745f6f",
   "metadata": {},
   "outputs": [],
   "source": [
    "# Install a pip package in the current Jupyter kernel\n",
    "import sys\n",
    "sys.path.append('../')\n",
    "# This is only needed for jupyter notebook\n",
    "import json\n",
    "import networkx as nx\n",
    "import pandas as pd\n",
    "import numpy as np"
   ]
  },
  {
   "cell_type": "markdown",
   "id": "70c2b721",
   "metadata": {},
   "source": [
    "## Getting Networks"
   ]
  },
  {
   "cell_type": "code",
   "execution_count": 10,
   "id": "49158d94",
   "metadata": {},
   "outputs": [],
   "source": [
    "ghuman = nx.read_edgelist(\"../data/biogrid_files/human.tsv\")\n",
    "gmouse = nx.read_edgelist(\"../data/biogrid_files/mouse.tsv\")\n",
    "\n",
    "# human and mouse \n",
    "ghs = {}\n",
    "gms = {}\n",
    "h_nlist = {}\n",
    "m_nlist = {}\n",
    "h_map = {}\n",
    "m_map = {}\n",
    "for e in [50, 100, 150, 200, 250, 300]:\n",
    "    ghs[e] = ghuman.subgraph(list(ghuman.nodes())[:e])\n",
    "    gms[e] = gmouse.subgraph(list(gmouse.nodes())[:e])\n",
    "    h_nlist[e] = list(ghs[e].nodes())\n",
    "    m_nlist[e] = list(gms[e].nodes())\n",
    "    h_map[e]   = {k:i for i, k in enumerate(h_nlist[e])}\n",
    "    m_map[e]   = {k:i for i, k in enumerate(m_nlist[e])}"
   ]
  },
  {
   "cell_type": "code",
   "execution_count": 11,
   "id": "03b80576",
   "metadata": {},
   "outputs": [
    {
     "name": "stdout",
     "output_type": "stream",
     "text": [
      "mouse\thuman\tweight\r\n",
      "13626\t8726\t925.0\r\n",
      "13626\t11091\t52.0\r\n",
      "13626\t11091\t43.9\r\n",
      "13626\t11091\t40.8\r\n",
      "13626\t11091\t38.1\r\n",
      "13626\t11091\t34.7\r\n",
      "13626\t23291\t49.3\r\n",
      "13626\t8945\t46.2\r\n",
      "13626\t8945\t31.2\r\n"
     ]
    },
    {
     "data": {
      "text/plain": [
       "False"
      ]
     },
     "execution_count": 11,
     "metadata": {},
     "output_type": "execute_result"
    }
   ],
   "source": [
    "! head ../data/sequence_similarity/human-mouse/human-mouse-seq-sim-entrezgene.tsv\n",
    "'13626' in mouse_map"
   ]
  },
  {
   "cell_type": "code",
   "execution_count": 12,
   "id": "63d29fe2",
   "metadata": {},
   "outputs": [
    {
     "name": "stdout",
     "output_type": "stream",
     "text": [
      "13626 8726 925.0\n"
     ]
    }
   ],
   "source": [
    "# df = pd.read_csv(\"../data/sequence_similarity/human-mouse/human-mouse-seq-sim-entrezgene.tsv\", delim_whitespace = True).astype({\"human\": 'str', \"mouse\": 'str'})\n",
    "# df.columns = [\"human\", \"mouse\", \"weight\"]\n",
    "# df.to_csv(\"../data/sequence_similarity/human-mouse/human-mouse-seq-sim-entrezgene.tsv\", sep = \"\\t\", index=None)\n",
    "# df = df.drop([0])\n",
    "# df.loc[df[\"mouse\"].isin(mouse_map) & df[\"human\"].isin(human_map), :]\n",
    "# df[\"weight\"].max()\n",
    "# for p, q, w in df.values:\n",
    "#     print(f\"{p} {q} {w}\")\n",
    "#     break"
   ]
  },
  {
   "cell_type": "code",
   "execution_count": 5,
   "id": "215a78f4",
   "metadata": {},
   "outputs": [
    {
     "data": {
      "text/plain": [
       "0"
      ]
     },
     "execution_count": 5,
     "metadata": {},
     "output_type": "execute_result"
    }
   ],
   "source": [
    "# E = np.zeros((100, 100))\n",
    "# len(set(df[\"mouse\"].astype(\"str\")).intersection(set(human_map.keys())))"
   ]
  },
  {
   "cell_type": "markdown",
   "id": "393daf99",
   "metadata": {},
   "source": [
    "## Network alignment"
   ]
  },
  {
   "cell_type": "code",
   "execution_count": 7,
   "id": "05f1093c",
   "metadata": {},
   "outputs": [
    {
     "name": "stdout",
     "output_type": "stream",
     "text": [
      "The autoreload extension is already loaded. To reload it, use:\n",
      "  %reload_ext autoreload\n",
      "Running iterations 0...\n"
     ]
    },
    {
     "name": "stderr",
     "output_type": "stream",
     "text": [
      "100%|███████████████████████████████████████████████████████████████████████████████████████████████████████████████████████████████████████████████████████████████████████████████████████████████| 10000/10000 [00:01<00:00, 6767.04it/s]\n"
     ]
    },
    {
     "name": "stdout",
     "output_type": "stream",
     "text": [
      "Number of pairings... 50\n",
      "Len(ps) = 10000 Len(qs) = 10000\n",
      "Break complete\n",
      "Running iterations 1...\n"
     ]
    },
    {
     "name": "stderr",
     "output_type": "stream",
     "text": [
      "100%|███████████████████████████████████████████████████████████████████████████████████████████████████████████████████████████████████████████████████████████████████████████████████████████████| 10000/10000 [00:01<00:00, 6700.71it/s]"
     ]
    },
    {
     "name": "stdout",
     "output_type": "stream",
     "text": [
      "Number of pairings... 50\n",
      "Len(ps) = 10000 Len(qs) = 10000\n",
      "Break complete\n"
     ]
    },
    {
     "name": "stderr",
     "output_type": "stream",
     "text": [
      "\n"
     ]
    }
   ],
   "source": [
    "%load_ext autoreload\n",
    "%autoreload 2\n",
    "\n",
    "from gmundo.alignment import isorank\n",
    "it = 1\n",
    "ch = 1\n",
    "\n",
    "matches = {}\n",
    "for e in [50, 100, 150, 200, 250, 300]:\n",
    "    _, _, matches[i] = isorank(ghs[e], \n",
    "                               gms[e], \n",
    "                               h_map[e], \n",
    "                               m_map[e], \n",
    "                               1, \n",
    "                               50, \n",
    "                               iterations = it, \n",
    "                               saveto=f\"isomap_mappings_{it}_{ch}_{e}.tsv\",\n",
    "                               rowname=\"human\",\n",
    "                               colname=\"mouse\")"
   ]
  },
  {
   "cell_type": "code",
   "execution_count": 8,
   "id": "2479279a",
   "metadata": {},
   "outputs": [
    {
     "data": {
      "text/plain": [
       "{'errors': [0.9709651976174989, 0.6520592608766549],\n",
       " 'checked/total': 0.14486118536099546}"
      ]
     },
     "execution_count": 8,
     "metadata": {},
     "output_type": "execute_result"
    }
   ],
   "source": [
    "matches[2]"
   ]
  },
  {
   "cell_type": "code",
   "execution_count": 7,
   "id": "1cc12bbd",
   "metadata": {},
   "outputs": [
    {
     "data": {
      "text/html": [
       "<div>\n",
       "<style scoped>\n",
       "    .dataframe tbody tr th:only-of-type {\n",
       "        vertical-align: middle;\n",
       "    }\n",
       "\n",
       "    .dataframe tbody tr th {\n",
       "        vertical-align: top;\n",
       "    }\n",
       "\n",
       "    .dataframe thead th {\n",
       "        text-align: right;\n",
       "    }\n",
       "</style>\n",
       "<table border=\"1\" class=\"dataframe\">\n",
       "  <thead>\n",
       "    <tr style=\"text-align: right;\">\n",
       "      <th></th>\n",
       "      <th>human</th>\n",
       "      <th>mouse</th>\n",
       "      <th>weight_x</th>\n",
       "      <th>weight_y</th>\n",
       "    </tr>\n",
       "  </thead>\n",
       "  <tbody>\n",
       "  </tbody>\n",
       "</table>\n",
       "</div>"
      ],
      "text/plain": [
       "Empty DataFrame\n",
       "Columns: [human, mouse, weight_x, weight_y]\n",
       "Index: []"
      ]
     },
     "execution_count": 7,
     "metadata": {},
     "output_type": "execute_result"
    }
   ],
   "source": [
    "df_a = pd.read_csv(\"isomap_mappings_10_1.tsv\", sep = \"\\t\")\n",
    "df_b = pd.read_csv(\"isomap_mappings_20_1.tsv\", sep = \"\\t\")\n",
    "\n",
    "df_a_b = pd.merge(df_a, df_b, how=\"outer\", on=[\"human\", \"mouse\"], indicator=True).query('_merge == \"both\"').drop(\"_merge\", axis = 1)\n",
    "df_a_b"
   ]
  },
  {
   "cell_type": "code",
   "execution_count": 8,
   "id": "41460af4",
   "metadata": {},
   "outputs": [
    {
     "data": {
      "text/plain": [
       "array([[5.74700000e+03, 1.40830000e+04, 6.25250128e-01],\n",
       "       [3.66700000e+03, 1.63670000e+04, 5.22155965e-01],\n",
       "       [6.92900000e+03, 2.14060000e+04, 1.92512311e-01],\n",
       "       [4.69200000e+03, 1.79840000e+04, 1.64109672e-01],\n",
       "       [7.53100000e+03, 2.26270000e+04, 1.48382269e-01],\n",
       "       [3.71700000e+03, 2.07790000e+04, 1.08850740e-01],\n",
       "       [2.26000000e+03, 2.16870000e+04, 9.46908811e-02],\n",
       "       [3.39900000e+03, 1.59030000e+04, 9.24244096e-02],\n",
       "       [3.64300000e+03, 1.13500000e+04, 6.56273873e-02],\n",
       "       [3.55200000e+03, 1.35550000e+04, 5.56616440e-02],\n",
       "       [8.65100000e+03, 1.36440000e+04, 4.99695098e-02],\n",
       "       [4.06600000e+03, 2.13490000e+04, 4.68507437e-02],\n",
       "       [3.98400000e+03, 1.10157000e+05, 3.71961380e-02],\n",
       "       [3.79100000e+03, 2.64000000e+04, 2.31061254e-02],\n",
       "       [7.32900000e+03, 2.21950000e+04, 2.20546685e-02],\n",
       "       [5.59900000e+03, 1.87540000e+04, 2.08695094e-02],\n",
       "       [1.09710000e+04, 2.25870000e+05, 2.01622605e-02],\n",
       "       [2.35980000e+04, 2.06830000e+04, 1.78608214e-02],\n",
       "       [9.46300000e+03, 9.42210000e+04, 1.65572863e-02],\n",
       "       [4.79000000e+03, 2.04660000e+04, 1.53858825e-02],\n",
       "       [4.90400000e+03, 2.33908000e+05, 1.52227900e-02],\n",
       "       [6.38600000e+03, 7.20880000e+04, 1.46836067e-02],\n",
       "       [7.40900000e+03, 2.04160000e+04, 1.43903883e-02],\n",
       "       [2.22400000e+03, 1.93030000e+04, 1.42576443e-02],\n",
       "       [3.33900000e+03, 1.40559000e+05, 1.33118086e-02],\n",
       "       [8.68300000e+03, 2.03820000e+04, 1.26713810e-02],\n",
       "       [9.46400000e+03, 1.59040000e+04, 1.26564981e-02],\n",
       "       [3.08400000e+03, 1.54610000e+04, 1.20823684e-02],\n",
       "       [4.30100000e+03, 1.74750000e+04, 1.15495717e-02],\n",
       "       [2.33900000e+04, 2.16963000e+05, 1.05249341e-02],\n",
       "       [6.72000000e+03, 1.71250000e+04, 9.20858405e-03],\n",
       "       [2.89700000e+03, 1.27370000e+04, 8.42057569e-03],\n",
       "       [2.89800000e+03, 2.22950000e+04, 8.32293021e-03],\n",
       "       [1.13370000e+04, 5.09150000e+04, 8.23702337e-03],\n",
       "       [2.25200000e+03, 1.25200000e+04, 7.85737354e-03],\n",
       "       [6.60600000e+03, 1.21250000e+04, 5.55247200e-03],\n",
       "       [2.54700000e+03, 1.63310000e+04, 4.62393890e-03],\n",
       "       [4.00000000e+03, 2.43833000e+05, 3.13457710e-03],\n",
       "       [3.06400000e+03, 5.67170000e+04, 1.01287694e-03],\n",
       "       [4.28600000e+03, 1.08086000e+05, 5.42617795e-04],\n",
       "       [7.34100000e+03, 2.41050000e+04, 5.07908635e-04],\n",
       "       [1.04010000e+04, 2.38070000e+04, 4.72755438e-04],\n",
       "       [1.04190000e+04, 1.88540000e+04, 1.78905890e-04],\n",
       "       [2.34680000e+04, 1.64760000e+04, 1.39510018e-04]])"
      ]
     },
     "execution_count": 8,
     "metadata": {},
     "output_type": "execute_result"
    }
   ],
   "source": [
    "df_a\n",
    "df_a.loc[(df_a[\"human\"] > 2145)].values"
   ]
  },
  {
   "cell_type": "code",
   "execution_count": null,
   "id": "012ed318",
   "metadata": {},
   "outputs": [],
   "source": []
  }
 ],
 "metadata": {
  "kernelspec": {
   "display_name": "Python 3 (ipykernel)",
   "language": "python",
   "name": "python3"
  },
  "language_info": {
   "codemirror_mode": {
    "name": "ipython",
    "version": 3
   },
   "file_extension": ".py",
   "mimetype": "text/x-python",
   "name": "python",
   "nbconvert_exporter": "python",
   "pygments_lexer": "ipython3",
   "version": "3.7.12"
  }
 },
 "nbformat": 4,
 "nbformat_minor": 5
}
