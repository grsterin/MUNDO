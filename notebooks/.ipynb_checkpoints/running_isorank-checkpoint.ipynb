{
 "cells": [
  {
   "cell_type": "markdown",
   "id": "af75ab84",
   "metadata": {},
   "source": [
    "## Imports"
   ]
  },
  {
   "cell_type": "code",
   "execution_count": 1,
   "id": "57745f6f",
   "metadata": {},
   "outputs": [],
   "source": [
    "# Install a pip package in the current Jupyter kernel\n",
    "import sys\n",
    "sys.path.append('../')\n",
    "# This is only needed for jupyter notebook\n",
    "import json\n",
    "import networkx as nx\n",
    "import pandas as pd\n",
    "import numpy as np"
   ]
  },
  {
   "cell_type": "markdown",
   "id": "70c2b721",
   "metadata": {},
   "source": [
    "## Getting Networks"
   ]
  },
  {
   "cell_type": "code",
   "execution_count": 28,
   "id": "49158d94",
   "metadata": {},
   "outputs": [],
   "source": [
    "ghuman = nx.read_edgelist(\"../data/biogrid_files/human.tsv\")\n",
    "gmouse = nx.read_edgelist(\"../data/biogrid_files/mouse.tsv\")\n",
    "\n",
    "# human and mouse \n",
    "ghs = {}\n",
    "gms = {}\n",
    "h_nlist = {}\n",
    "m_nlist = {}\n",
    "h_map = {}\n",
    "m_map = {}\n",
    "for e in [50, 100, 150, 200, 250, 300, 500, 1000]:\n",
    "    ghs[e] = ghuman.subgraph(list(ghuman.nodes())[:e])\n",
    "    gms[e] = gmouse.subgraph(list(gmouse.nodes())[:e])\n",
    "    h_nlist[e] = list(ghs[e].nodes())\n",
    "    m_nlist[e] = list(gms[e].nodes())\n",
    "    h_map[e]   = {k:i for i, k in enumerate(h_nlist[e])}\n",
    "    m_map[e]   = {k:i for i, k in enumerate(m_nlist[e])}"
   ]
  },
  {
   "cell_type": "code",
   "execution_count": 11,
   "id": "03b80576",
   "metadata": {
    "scrolled": true
   },
   "outputs": [
    {
     "name": "stdout",
     "output_type": "stream",
     "text": [
      "mouse\thuman\tweight\n",
      "13626\t8726\t925.0\n",
      "13626\t11091\t52.0\n",
      "13626\t11091\t43.9\n",
      "13626\t11091\t40.8\n",
      "13626\t11091\t38.1\n",
      "13626\t11091\t34.7\n",
      "13626\t23291\t49.3\n",
      "13626\t8945\t46.2\n",
      "13626\t8945\t31.2\n"
     ]
    },
    {
     "data": {
      "text/plain": [
       "False"
      ]
     },
     "execution_count": 11,
     "metadata": {},
     "output_type": "execute_result"
    }
   ],
   "source": [
    "! head ../data/sequence_similarity/human-mouse/human-mouse-seq-sim-entrezgene.tsv\n",
    "'13626' in mouse_map"
   ]
  },
  {
   "cell_type": "code",
   "execution_count": 12,
   "id": "63d29fe2",
   "metadata": {},
   "outputs": [
    {
     "name": "stdout",
     "output_type": "stream",
     "text": [
      "13626 8726 925.0\n"
     ]
    }
   ],
   "source": [
    "# df = pd.read_csv(\"../data/sequence_similarity/human-mouse/human-mouse-seq-sim-entrezgene.tsv\", delim_whitespace = True).astype({\"human\": 'str', \"mouse\": 'str'})\n",
    "# df.columns = [\"human\", \"mouse\", \"weight\"]\n",
    "# df.to_csv(\"../data/sequence_similarity/human-mouse/human-mouse-seq-sim-entrezgene.tsv\", sep = \"\\t\", index=None)\n",
    "# df = df.drop([0])\n",
    "# df.loc[df[\"mouse\"].isin(mouse_map) & df[\"human\"].isin(human_map), :]\n",
    "# df[\"weight\"].max()\n",
    "# for p, q, w in df.values:\n",
    "#     print(f\"{p} {q} {w}\")\n",
    "#     break"
   ]
  },
  {
   "cell_type": "code",
   "execution_count": 5,
   "id": "215a78f4",
   "metadata": {},
   "outputs": [
    {
     "data": {
      "text/plain": [
       "0"
      ]
     },
     "execution_count": 5,
     "metadata": {},
     "output_type": "execute_result"
    }
   ],
   "source": [
    "# E = np.zeros((100, 100))\n",
    "# len(set(df[\"mouse\"].astype(\"str\")).intersection(set(human_map.keys())))"
   ]
  },
  {
   "cell_type": "markdown",
   "id": "393daf99",
   "metadata": {},
   "source": [
    "## Network alignment"
   ]
  },
  {
   "cell_type": "code",
   "execution_count": 29,
   "id": "05f1093c",
   "metadata": {},
   "outputs": [
    {
     "name": "stdout",
     "output_type": "stream",
     "text": [
      "The autoreload extension is already loaded. To reload it, use:\n",
      "  %reload_ext autoreload\n",
      "Running iterations 0...\n"
     ]
    },
    {
     "name": "stderr",
     "output_type": "stream",
     "text": [
      "100%|█████████████████████████████████████████████████████████████████████████████████████████████████████████████████████████████████████████████████████████████████████████████████████████████████| 2500/2500 [00:00<00:00, 4655.48it/s]\n"
     ]
    },
    {
     "name": "stdout",
     "output_type": "stream",
     "text": [
      "Number of pairings... 50\n",
      "Len(ps) = 2500 Len(qs) = 2500\n",
      "Break complete\n",
      "Running iterations 0...\n"
     ]
    },
    {
     "name": "stderr",
     "output_type": "stream",
     "text": [
      "100%|███████████████████████████████████████████████████████████████████████████████████████████████████████████████████████████████████████████████████████████████████████████████████████████████| 10000/10000 [00:03<00:00, 2647.62it/s]\n"
     ]
    },
    {
     "name": "stdout",
     "output_type": "stream",
     "text": [
      "Number of pairings... 50\n",
      "Len(ps) = 10000 Len(qs) = 10000\n",
      "Break complete\n",
      "Running iterations 0...\n"
     ]
    },
    {
     "name": "stderr",
     "output_type": "stream",
     "text": [
      "100%|███████████████████████████████████████████████████████████████████████████████████████████████████████████████████████████████████████████████████████████████████████████████████████████████| 22500/22500 [00:08<00:00, 2564.02it/s]\n"
     ]
    },
    {
     "name": "stdout",
     "output_type": "stream",
     "text": [
      "Number of pairings... 50\n",
      "Len(ps) = 22500 Len(qs) = 22500\n",
      "Break complete\n",
      "Running iterations 0...\n"
     ]
    },
    {
     "name": "stderr",
     "output_type": "stream",
     "text": [
      "100%|███████████████████████████████████████████████████████████████████████████████████████████████████████████████████████████████████████████████████████████████████████████████████████████████| 40000/40000 [00:18<00:00, 2191.76it/s]\n"
     ]
    },
    {
     "name": "stdout",
     "output_type": "stream",
     "text": [
      "Number of pairings... 50\n",
      "Len(ps) = 40000 Len(qs) = 40000\n",
      "Break complete\n",
      "Running iterations 0...\n"
     ]
    },
    {
     "name": "stderr",
     "output_type": "stream",
     "text": [
      "100%|███████████████████████████████████████████████████████████████████████████████████████████████████████████████████████████████████████████████████████████████████████████████████████████████| 62500/62500 [00:34<00:00, 1832.00it/s]\n"
     ]
    },
    {
     "name": "stdout",
     "output_type": "stream",
     "text": [
      "Number of pairings... 50\n",
      "Len(ps) = 62500 Len(qs) = 62500\n",
      "Break complete\n",
      "Running iterations 0...\n"
     ]
    },
    {
     "name": "stderr",
     "output_type": "stream",
     "text": [
      "100%|███████████████████████████████████████████████████████████████████████████████████████████████████████████████████████████████████████████████████████████████████████████████████████████████| 90000/90000 [00:53<00:00, 1695.04it/s]\n"
     ]
    },
    {
     "name": "stdout",
     "output_type": "stream",
     "text": [
      "Number of pairings... 50\n",
      "Len(ps) = 90000 Len(qs) = 90000\n",
      "Break complete\n",
      "Running iterations 0...\n"
     ]
    },
    {
     "name": "stderr",
     "output_type": "stream",
     "text": [
      "100%|█████████████████████████████████████████████████████████████████████████████████████████████████████████████████████████████████████████████████████████████████████████████████████████████| 250000/250000 [03:38<00:00, 1144.38it/s]\n"
     ]
    },
    {
     "name": "stdout",
     "output_type": "stream",
     "text": [
      "Number of pairings... 50\n",
      "Len(ps) = 250000 Len(qs) = 250000\n",
      "Break complete\n",
      "Running iterations 0...\n"
     ]
    },
    {
     "name": "stderr",
     "output_type": "stream",
     "text": [
      "100%|████████████████████████████████████████████████████████████████████████████████████████████████████████████████████████████████████████████████████████████████████████████████████████████| 1000000/1000000 [23:26<00:00, 710.89it/s]\n"
     ]
    },
    {
     "name": "stdout",
     "output_type": "stream",
     "text": [
      "Number of pairings... 50\n",
      "Len(ps) = 1000000 Len(qs) = 1000000\n",
      "Break complete\n"
     ]
    }
   ],
   "source": [
    "%load_ext autoreload\n",
    "%autoreload 2\n",
    "\n",
    "from gmundo.alignment import isorank\n",
    "it = 1\n",
    "ch = 1\n",
    "\n",
    "matches = {}\n",
    "for e in [50, 100, 150, 200, 250, 300, 500, 1000]:\n",
    "    _, _, matches[e] = isorank(ghs[e], \n",
    "                               gms[e], \n",
    "                               h_map[e], \n",
    "                               m_map[e], \n",
    "                               1, \n",
    "                               50, \n",
    "                               iterations = it, \n",
    "                               saveto=f\"isomap_mappings_{it}_{ch}_{e}.tsv\",\n",
    "                               rowname=\"human\",\n",
    "                               colname=\"mouse\")"
   ]
  },
  {
   "cell_type": "code",
   "execution_count": 37,
   "id": "3cc0a89b",
   "metadata": {},
   "outputs": [
    {
     "name": "stdout",
     "output_type": "stream",
     "text": [
      "Running iterations 0...\n"
     ]
    },
    {
     "name": "stderr",
     "output_type": "stream",
     "text": [
      "100%|███████████████████████████████████████████████████████████████████████████████████████████████████████████████████████████████████████████████████████████████████████████████████████████████| 10000/10000 [00:04<00:00, 2249.46it/s]"
     ]
    },
    {
     "name": "stdout",
     "output_type": "stream",
     "text": [
      "Number of pairings... 50\n",
      "Len(ps) = 10000 Len(qs) = 10000\n",
      "Break complete\n"
     ]
    },
    {
     "name": "stderr",
     "output_type": "stream",
     "text": [
      "\n"
     ]
    }
   ],
   "source": [
    "_, _, matches_c = isorank(ghs[100], \n",
    "                               gms[100], \n",
    "                               h_map[100], \n",
    "                               m_map[100], \n",
    "                               1, \n",
    "                               50, \n",
    "                               iterations = it, \n",
    "                               saveto=f\"isomap_mappings_{it}_{ch}_{e}.tsv\",\n",
    "                               rowname=\"human\",\n",
    "                               colname=\"mouse\")"
   ]
  },
  {
   "cell_type": "code",
   "execution_count": 38,
   "id": "41c870f9",
   "metadata": {},
   "outputs": [
    {
     "data": {
      "text/plain": [
       "{'errors': [0.9816246632072169],\n",
       " 'checked/total': 0.8485249373835009,\n",
       " 'total': 4.452122210001107}"
      ]
     },
     "execution_count": 38,
     "metadata": {},
     "output_type": "execute_result"
    }
   ],
   "source": [
    "matches_c"
   ]
  },
  {
   "cell_type": "code",
   "execution_count": 30,
   "id": "1103a9db",
   "metadata": {},
   "outputs": [
    {
     "data": {
      "text/plain": [
       "{50: {'errors': [0.8698378664047095],\n",
       "  'checked/total': 0.10958860249184976,\n",
       "  'total': 0.5423274289933033},\n",
       " 100: {'errors': [0.9810488136027177],\n",
       "  'checked/total': 0.06267145326777117,\n",
       "  'total': 3.7821478539990494},\n",
       " 150: {'errors': [1.0050723442235079],\n",
       "  'checked/total': 0.061704633892636876,\n",
       "  'total': 8.786148900006083},\n",
       " 200: {'errors': [1.000896597727744],\n",
       "  'checked/total': 0.05313406901583728,\n",
       "  'total': 18.257436676009092},\n",
       " 250: {'errors': [1.0266768814792944],\n",
       "  'checked/total': 0.04489020286647686,\n",
       "  'total': 34.12479444600467},\n",
       " 300: {'errors': [1.0440912131531386],\n",
       "  'checked/total': 0.04233143456719199,\n",
       "  'total': 53.111313832007},\n",
       " 500: {'errors': [1.1712982650814752],\n",
       "  'checked/total': 0.03149214659896034,\n",
       "  'total': 218.4906953739992},\n",
       " 1000: {'errors': [1.187148889111631],\n",
       "  'checked/total': 0.046929577258750396,\n",
       "  'total': 1406.8100457949913}}"
      ]
     },
     "execution_count": 30,
     "metadata": {},
     "output_type": "execute_result"
    }
   ],
   "source": [
    "matches"
   ]
  },
  {
   "cell_type": "code",
   "execution_count": 31,
   "id": "c60c2eb8",
   "metadata": {},
   "outputs": [
    {
     "data": {
      "text/plain": [
       "<AxesSubplot:xlabel='dims', ylabel='total_time'>"
      ]
     },
     "execution_count": 31,
     "metadata": {},
     "output_type": "execute_result"
    },
    {
     "data": {
      "image/png": "[encoded data removed]",
      "text/plain": [
       "<Figure size 432x288 with 1 Axes>"
      ]
     },
     "metadata": {
      "needs_background": "light"
     },
     "output_type": "display_data"
    }
   ],
   "source": [
    "import seaborn as sns\n",
    "dims = list(matches.keys())\n",
    "total_t = [matches[i][\"total\"] for i in matches]\n",
    "checked_r = [matches[i][\"checked/total\"] for i in matches]\n",
    "\n",
    "df = pd.DataFrame(zip(dims, total_t, checked_r), columns = [\"dims\", \"total_time\", \"checked_ratio\"])\n",
    "sns.lineplot(data = df.drop([\"checked_ratio\"], axis = 1), x = \"dims\", y = \"total_time\", marker=\"o\")\n",
    "\n"
   ]
  },
  {
   "cell_type": "code",
   "execution_count": 34,
   "id": "72f2d588",
   "metadata": {},
   "outputs": [
    {
     "data": {
      "text/plain": [
       "7.0"
      ]
     },
     "execution_count": 34,
     "metadata": {},
     "output_type": "execute_result"
    }
   ],
   "source": [
    "1400 / 200 "
   ]
  },
  {
   "cell_type": "code",
   "execution_count": 33,
   "id": "1cc12bbd",
   "metadata": {},
   "outputs": [
    {
     "data": {
      "text/plain": [
       "<AxesSubplot:xlabel='dims', ylabel='checked_ratio'>"
      ]
     },
     "execution_count": 33,
     "metadata": {},
     "output_type": "execute_result"
    },
    {
     "data": {
      "image/png": "[encoded data removed]",
      "text/plain": [
       "<Figure size 432x288 with 1 Axes>"
      ]
     },
     "metadata": {
      "needs_background": "light"
     },
     "output_type": "display_data"
    }
   ],
   "source": [
    "sns.lineplot(data = df.drop([\"total_time\"], axis = 1), x = \"dims\", y = \"checked_ratio\", marker = \"o\")"
   ]
  },
  {
   "cell_type": "code",
   "execution_count": 8,
   "id": "41460af4",
   "metadata": {},
   "outputs": [
    {
     "data": {
      "text/plain": [
       "array([[5.74700000e+03, 1.40830000e+04, 6.25250128e-01],\n",
       "       [3.66700000e+03, 1.63670000e+04, 5.22155965e-01],\n",
       "       [6.92900000e+03, 2.14060000e+04, 1.92512311e-01],\n",
       "       [4.69200000e+03, 1.79840000e+04, 1.64109672e-01],\n",
       "       [7.53100000e+03, 2.26270000e+04, 1.48382269e-01],\n",
       "       [3.71700000e+03, 2.07790000e+04, 1.08850740e-01],\n",
       "       [2.26000000e+03, 2.16870000e+04, 9.46908811e-02],\n",
       "       [3.39900000e+03, 1.59030000e+04, 9.24244096e-02],\n",
       "       [3.64300000e+03, 1.13500000e+04, 6.56273873e-02],\n",
       "       [3.55200000e+03, 1.35550000e+04, 5.56616440e-02],\n",
       "       [8.65100000e+03, 1.36440000e+04, 4.99695098e-02],\n",
       "       [4.06600000e+03, 2.13490000e+04, 4.68507437e-02],\n",
       "       [3.98400000e+03, 1.10157000e+05, 3.71961380e-02],\n",
       "       [3.79100000e+03, 2.64000000e+04, 2.31061254e-02],\n",
       "       [7.32900000e+03, 2.21950000e+04, 2.20546685e-02],\n",
       "       [5.59900000e+03, 1.87540000e+04, 2.08695094e-02],\n",
       "       [1.09710000e+04, 2.25870000e+05, 2.01622605e-02],\n",
       "       [2.35980000e+04, 2.06830000e+04, 1.78608214e-02],\n",
       "       [9.46300000e+03, 9.42210000e+04, 1.65572863e-02],\n",
       "       [4.79000000e+03, 2.04660000e+04, 1.53858825e-02],\n",
       "       [4.90400000e+03, 2.33908000e+05, 1.52227900e-02],\n",
       "       [6.38600000e+03, 7.20880000e+04, 1.46836067e-02],\n",
       "       [7.40900000e+03, 2.04160000e+04, 1.43903883e-02],\n",
       "       [2.22400000e+03, 1.93030000e+04, 1.42576443e-02],\n",
       "       [3.33900000e+03, 1.40559000e+05, 1.33118086e-02],\n",
       "       [8.68300000e+03, 2.03820000e+04, 1.26713810e-02],\n",
       "       [9.46400000e+03, 1.59040000e+04, 1.26564981e-02],\n",
       "       [3.08400000e+03, 1.54610000e+04, 1.20823684e-02],\n",
       "       [4.30100000e+03, 1.74750000e+04, 1.15495717e-02],\n",
       "       [2.33900000e+04, 2.16963000e+05, 1.05249341e-02],\n",
       "       [6.72000000e+03, 1.71250000e+04, 9.20858405e-03],\n",
       "       [2.89700000e+03, 1.27370000e+04, 8.42057569e-03],\n",
       "       [2.89800000e+03, 2.22950000e+04, 8.32293021e-03],\n",
       "       [1.13370000e+04, 5.09150000e+04, 8.23702337e-03],\n",
       "       [2.25200000e+03, 1.25200000e+04, 7.85737354e-03],\n",
       "       [6.60600000e+03, 1.21250000e+04, 5.55247200e-03],\n",
       "       [2.54700000e+03, 1.63310000e+04, 4.62393890e-03],\n",
       "       [4.00000000e+03, 2.43833000e+05, 3.13457710e-03],\n",
       "       [3.06400000e+03, 5.67170000e+04, 1.01287694e-03],\n",
       "       [4.28600000e+03, 1.08086000e+05, 5.42617795e-04],\n",
       "       [7.34100000e+03, 2.41050000e+04, 5.07908635e-04],\n",
       "       [1.04010000e+04, 2.38070000e+04, 4.72755438e-04],\n",
       "       [1.04190000e+04, 1.88540000e+04, 1.78905890e-04],\n",
       "       [2.34680000e+04, 1.64760000e+04, 1.39510018e-04]])"
      ]
     },
     "execution_count": 8,
     "metadata": {},
     "output_type": "execute_result"
    }
   ],
   "source": [
    "df_a\n",
    "df_a.loc[(df_a[\"human\"] > 2145)].values"
   ]
  },
  {
   "cell_type": "code",
   "execution_count": 122,
   "id": "012ed318",
   "metadata": {},
   "outputs": [],
   "source": [
    "import numpy as np\n",
    "\n",
    "def isorank(R1, R2, E, alpha=0.7, epoch = 10):\n",
    "    \"\"\"\n",
    "    Compute the ISORANK matches from adjacency matrices R1, R2.\n",
    "\n",
    "    E is the sequence based similarity score.action\n",
    "    \n",
    "    E : numpy matrix {m x n}, sequence similarity score\n",
    "    \"\"\"\n",
    "    \n",
    "    \n",
    "    m, _ = R1.shape\n",
    "    n, _ = R2.shape\n",
    "    \n",
    "    R  = np.random.randn(m, n)\n",
    "    R /= np.max(R)\n",
    "    \n",
    "    def construct_A():\n",
    "        ## Initialize A as a zero tensor \n",
    "        \n",
    "        A  = np.zeros((m, n, m, n), dtype = np.float32)\n",
    "        \n",
    "        # Compute D1 and D2; The degree matrices for the adjacencies R1 and R2\n",
    "        D1 = R1 @ np.ones((m, 1)).reshape(-1)\n",
    "        D2 = R2 @ np.ones((n, 1)).reshape(-1)\n",
    "        \n",
    "        # Get the non-zero indices for R1 and R2\n",
    "        R1_idx = np.nonzero(R1)\n",
    "        R2_idx = np.nonzero(R2)\n",
    "        \n",
    "        # Get the corresponding non-zero values\n",
    "        R1_vals = R1[R1_idx[0], R1_idx[1]]\n",
    "        R2_vals = R2[R2_idx[0], R2_idx[1]]\n",
    "        \n",
    "        # After getting the values, transpose\n",
    "        R1_idx = np.transpose(R1_idx)\n",
    "        R2_idx = np.transpose(R2_idx)\n",
    "        \n",
    "        # ids for A is the cartesian product of the R1_vals and R2_vals\n",
    "        # Cartesian product of all axes to produce indices for A with non-zero values\n",
    "        A_idx = np.concatenate([np.tile(R1_idx, (R2_idx.shape[0], 1)),\n",
    "                               np.repeat(R2_idx, R1_idx.shape[0], axis = 0)], axis = 1)\n",
    "        \n",
    "        # Split the indices of A with non-zero values to get i, j, u, v in A[i, j](u, v)\n",
    "        is_, us, js, vs = [r.squeeze() for r in np.split(A_idx, 4, axis = 1)]\n",
    "        A[is_, js, us, vs] = 1 / (D1[us] * D2[vs])\n",
    "        return A\n",
    "    \n",
    "    A = construct_A()\n",
    "    \n",
    "    def update_R(R, A):\n",
    "        \"\"\"\n",
    "        Computes R = AR operation. \n",
    "        R_{i, j} = \\alpha * \\sum_{u, v}(A_{i, j}(u, v) A(u, v)) + (1-\\alpha) E_{i, j} \n",
    "        \"\"\"\n",
    "        R = np.sum(A * np.expand_dims(R, axis = (0, 1)), axis = (2,3), keepdims = False)\n",
    "        if E is not None:\n",
    "            R = (1 - alpha) * R + alpha * E\n",
    "        return R\n",
    "\n",
    "    for i in range(epoch):\n",
    "        R = update_R(R, A)\n",
    "    return R\n",
    "\n",
    "    "
   ]
  },
  {
   "cell_type": "code",
   "execution_count": 125,
   "id": "27639db4-4cfe-4ca6-aaca-a263f1590108",
   "metadata": {},
   "outputs": [
    {
     "data": {
      "text/plain": [
       "5.202659145034875e-05"
      ]
     },
     "execution_count": 125,
     "metadata": {},
     "output_type": "execute_result"
    }
   ],
   "source": [
    "R1 = np.random.randint(10, size = [10,10])\n",
    "R1 = R1 + R1.T\n",
    "R1 = np.where(R1 > 10, 1, 0)\n",
    "np.fill_diagonal(R1, 0)\n",
    "\n",
    "R2 = np.random.randint(10, size = [8,8])\n",
    "R2 = R2 + R2.T\n",
    "R2 = np.where(R2 > 10, 1, 0)\n",
    "np.fill_diagonal(R2, 0)\n",
    "\n",
    "E = np.absolute(np.random.randn(10, 8))\n",
    "\n",
    "R10 = isorank(R1, R2, E, epoch=10) \n",
    "R20 = isorank(R1, R2, E, epoch=20)\n",
    "np.linalg.norm(R10 - R20)"
   ]
  },
  {
   "cell_type": "code",
   "execution_count": 126,
   "id": "4d419bfc-ed37-46ad-9c30-bb69c110bd08",
   "metadata": {},
   "outputs": [
    {
     "data": {
      "text/plain": [
       "3.4323026408677927e-10"
      ]
     },
     "execution_count": 126,
     "metadata": {},
     "output_type": "execute_result"
    }
   ],
   "source": [
    "R30 = isorank(R1, R2, E, epoch=30)\n",
    "np.linalg.norm(R20 - R30)"
   ]
  },
  {
   "cell_type": "code",
   "execution_count": null,
   "id": "59055325-1703-45c8-a3b4-a2245446da60",
   "metadata": {},
   "outputs": [],
   "source": []
  }
 ],
 "metadata": {
  "kernelspec": {
   "display_name": "Python 3 (ipykernel)",
   "language": "python",
   "name": "python3"
  },
  "language_info": {
   "codemirror_mode": {
    "name": "ipython",
    "version": 3
   },
   "file_extension": ".py",
   "mimetype": "text/x-python",
   "name": "python",
   "nbconvert_exporter": "python",
   "pygments_lexer": "ipython3",
   "version": "3.7.12"
  }
 },
 "nbformat": 4,
 "nbformat_minor": 5
}
