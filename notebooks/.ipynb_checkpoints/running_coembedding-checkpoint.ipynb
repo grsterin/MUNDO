{
 "cells": [
  {
   "cell_type": "markdown",
   "metadata": {},
   "source": [
    "## Imports"
   ]
  },
  {
   "cell_type": "code",
   "execution_count": 1,
   "metadata": {
    "collapsed": true
   },
   "outputs": [],
   "source": [
    "# Install a pip package in the current Jupyter kernel\n",
    "import sys\n",
    "sys.path.append('../')\n",
    "# This is only needed for jupyter notebook\n",
    "import json\n",
    "import networkx as nx\n",
    "import pandas as pd\n",
    "import numpy as np"
   ]
  },
  {
   "cell_type": "markdown",
   "metadata": {},
   "source": [
    "## Read networks from biogrid files"
   ]
  },
  {
   "cell_type": "code",
   "execution_count": 2,
   "metadata": {},
   "outputs": [
    {
     "ename": "FileNotFoundError",
     "evalue": "[Errno 2] No such file or directory: '../data/biogrid_files/BIOGRID-ORGANISM-4.4.206.tab3/BIOGRID-ORGANISM-Homo_sapiens-4.4.206.tab3.txt'",
     "output_type": "error",
     "traceback": [
      "\u001b[0;31m---------------------------------------------------------------------------\u001b[0m",
      "\u001b[0;31mFileNotFoundError\u001b[0m                         Traceback (most recent call last)",
      "\u001b[0;32m<ipython-input-2-6ec2dd339f61>\u001b[0m in \u001b[0;36m<module>\u001b[0;34m()\u001b[0m\n\u001b[1;32m      1\u001b[0m \u001b[0;32mfrom\u001b[0m \u001b[0mgmundo\u001b[0m\u001b[0;34m.\u001b[0m\u001b[0mnetwork_op\u001b[0m \u001b[0;32mimport\u001b[0m \u001b[0mread_network_from_biogrid_file\u001b[0m\u001b[0;34m\u001b[0m\u001b[0m\n\u001b[1;32m      2\u001b[0m \u001b[0;34m\u001b[0m\u001b[0m\n\u001b[0;32m----> 3\u001b[0;31m \u001b[0mghuman\u001b[0m \u001b[0;34m=\u001b[0m \u001b[0mread_network_from_biogrid_file\u001b[0m\u001b[0;34m(\u001b[0m\u001b[0;34m'../data/biogrid_files/BIOGRID-ORGANISM-4.4.206.tab3/BIOGRID-ORGANISM-Homo_sapiens-4.4.206.tab3.txt'\u001b[0m\u001b[0;34m,\u001b[0m \u001b[0;34m'homo sapiens'\u001b[0m\u001b[0;34m)\u001b[0m\u001b[0;34m\u001b[0m\u001b[0m\n\u001b[0m\u001b[1;32m      4\u001b[0m \u001b[0mgmouse\u001b[0m \u001b[0;34m=\u001b[0m \u001b[0mread_network_from_biogrid_file\u001b[0m\u001b[0;34m(\u001b[0m\u001b[0;34m'../data/biogrid_files/BIOGRID-ORGANISM-4.4.206.tab3/BIOGRID-ORGANISM-Mus_musculus-4.4.206.tab3.txt'\u001b[0m\u001b[0;34m,\u001b[0m \u001b[0;34m'mus musculus'\u001b[0m\u001b[0;34m)\u001b[0m\u001b[0;34m\u001b[0m\u001b[0m\n\u001b[1;32m      5\u001b[0m \u001b[0mhuman_nodelist\u001b[0m \u001b[0;34m=\u001b[0m \u001b[0mlist\u001b[0m\u001b[0;34m(\u001b[0m\u001b[0mghuman\u001b[0m\u001b[0;34m.\u001b[0m\u001b[0mnodes\u001b[0m\u001b[0;34m(\u001b[0m\u001b[0;34m)\u001b[0m\u001b[0;34m)\u001b[0m\u001b[0;34m\u001b[0m\u001b[0m\n",
      "\u001b[0;32m~/Documents/Research/UNI-MUNDO/gmundo/network_op.py\u001b[0m in \u001b[0;36mread_network_from_biogrid_file\u001b[0;34m(db_file, organism_name)\u001b[0m\n\u001b[1;32m      4\u001b[0m \u001b[0;32mdef\u001b[0m \u001b[0mread_network_from_biogrid_file\u001b[0m\u001b[0;34m(\u001b[0m\u001b[0mdb_file\u001b[0m\u001b[0;34m:\u001b[0m \u001b[0mstr\u001b[0m\u001b[0;34m,\u001b[0m \u001b[0morganism_name\u001b[0m\u001b[0;34m:\u001b[0m \u001b[0mstr\u001b[0m\u001b[0;34m)\u001b[0m \u001b[0;34m->\u001b[0m \u001b[0mnx\u001b[0m\u001b[0;34m.\u001b[0m\u001b[0mGraph\u001b[0m\u001b[0;34m:\u001b[0m\u001b[0;34m\u001b[0m\u001b[0m\n\u001b[1;32m      5\u001b[0m     \u001b[0medgeset\u001b[0m \u001b[0;34m=\u001b[0m \u001b[0mset\u001b[0m\u001b[0;34m(\u001b[0m\u001b[0;34m)\u001b[0m\u001b[0;34m\u001b[0m\u001b[0m\n\u001b[0;32m----> 6\u001b[0;31m     \u001b[0;32mwith\u001b[0m \u001b[0mopen\u001b[0m\u001b[0;34m(\u001b[0m\u001b[0mdb_file\u001b[0m\u001b[0;34m,\u001b[0m \u001b[0;34m'r'\u001b[0m\u001b[0;34m)\u001b[0m \u001b[0;32mas\u001b[0m \u001b[0mfptr\u001b[0m\u001b[0;34m:\u001b[0m\u001b[0;34m\u001b[0m\u001b[0m\n\u001b[0m\u001b[1;32m      7\u001b[0m         \u001b[0mnext\u001b[0m\u001b[0;34m(\u001b[0m\u001b[0mfptr\u001b[0m\u001b[0;34m)\u001b[0m  \u001b[0;31m# skip format description line\u001b[0m\u001b[0;34m\u001b[0m\u001b[0m\n\u001b[1;32m      8\u001b[0m         \u001b[0;32mfor\u001b[0m \u001b[0mline\u001b[0m \u001b[0;32min\u001b[0m \u001b[0mfptr\u001b[0m\u001b[0;34m.\u001b[0m\u001b[0mreadlines\u001b[0m\u001b[0;34m(\u001b[0m\u001b[0;34m)\u001b[0m\u001b[0;34m:\u001b[0m\u001b[0;34m\u001b[0m\u001b[0m\n",
      "\u001b[0;31mFileNotFoundError\u001b[0m: [Errno 2] No such file or directory: '../data/biogrid_files/BIOGRID-ORGANISM-4.4.206.tab3/BIOGRID-ORGANISM-Homo_sapiens-4.4.206.tab3.txt'"
     ]
    }
   ],
   "source": [
    "from gmundo.network_op import read_network_from_biogrid_file\n",
    "\n",
    "ghuman = read_network_from_biogrid_file('../data/biogrid_files/BIOGRID-ORGANISM-4.4.206.tab3/BIOGRID-ORGANISM-Homo_sapiens-4.4.206.tab3.txt', 'homo sapiens')\n",
    "gmouse = read_network_from_biogrid_file('../data/biogrid_files/BIOGRID-ORGANISM-4.4.206.tab3/BIOGRID-ORGANISM-Mus_musculus-4.4.206.tab3.txt', 'mus musculus')\n",
    "human_nodelist = list(ghuman.nodes())\n",
    "mouse_nodelist = list(gmouse.nodes())\n",
    "\n",
    "#save edge lists as tsv\n",
    "nx.write_edgelist(ghuman, \"human.tsv\", data=False, delimiter='\\t')\n",
    "nx.write_edgelist(gmouse, \"mouse.tsv\", data=False, delimiter='\\t')\n",
    "\n",
    "# SAVING THE JSON FILES\n",
    "with open(\"human.json\", \"w\") as hj:\n",
    "    human_map = {k:i for i, k in enumerate(human_nodelist)}\n",
    "    json.dump(human_map, hj)\n",
    "with open(\"mouse.json\", \"w\") as mj:\n",
    "    mouse_map = {k:i for i, k in enumerate(mouse_nodelist)}\n",
    "    json.dump(mouse_map, mj)\n",
    "\n"
   ]
  },
  {
   "cell_type": "code",
   "execution_count": 3,
   "metadata": {
    "collapsed": true
   },
   "outputs": [],
   "source": [
    "ghuman = nx.read_edgelist(\"../data/biogrid_files/mouse.tsv\")\n",
    "gmouse = nx.read_edgelist(\"../data/biogrid_files/human.tsv\")\n",
    "\n",
    "human_nodelist = list(ghuman.nodes())\n",
    "mouse_nodelist = list(gmouse.nodes())\n",
    "human_map = {k:i for i, k in enumerate(human_nodelist)}\n",
    "mouse_map = {k:i for i, k in enumerate(mouse_nodelist)}"
   ]
  },
  {
   "cell_type": "markdown",
   "metadata": {},
   "source": [
    "## Network alignment"
   ]
  },
  {
   "cell_type": "markdown",
   "metadata": {},
   "source": [
    "### Isorank"
   ]
  },
  {
   "cell_type": "code",
   "execution_count": null,
   "metadata": {
    "collapsed": true
   },
   "outputs": [],
   "source": [
    "from gmundo.alignment import isorank\n",
    "matches = isorank(ghuman, gmouse, human_map, mouse_map, 1, 50, iterations = 2)"
   ]
  },
  {
   "cell_type": "code",
   "execution_count": 24,
   "metadata": {
    "collapsed": true
   },
   "outputs": [],
   "source": [
    "# this isorank code takes too much space, so have to optimize this properly\n",
    "def randomized_mapping(n1, n2, n_mapping):\n",
    "    rn1 = np.random.permutation(len(n1))[:n_mapping]\n",
    "    rn2 = np.random.permutation(len(n2))[:n_mapping]\n",
    "    i_mapping = list(zip(rn1, rn2))\n",
    "    mapping   = [(n1[p], n2[q]) for p, q in zip(rn1, rn2)]\n",
    "    return mapping, i_mapping\n",
    "mapping, i_mapping = randomized_mapping(human_nodelist, mouse_nodelist, 50)"
   ]
  },
  {
   "cell_type": "markdown",
   "metadata": {},
   "source": [
    "### Hubalign"
   ]
  },
  {
   "cell_type": "code",
   "execution_count": null,
   "metadata": {
    "collapsed": true
   },
   "outputs": [],
   "source": [
    "from gmundo.alignment_utils import seq_sim_file_from_refseq_to_entrezgene\n",
    "\n",
    "# Here we convert sequence similarity file from refseq format to entrezgene if needed.\n",
    "# After that the resulting file can be used to improve hubalign network alignment.\n",
    "seq_sim_file_from_refseq_to_entrezgene(\"../data/sequence_similarity/human-mouse/human-mouse-seq-sim-refseq.tsv\", \"../data/sequence_similarity/human-mouse/human-mouse-seq-sim-entrezgene.tsv\", 'MOUSE', 'HUMAN')"
   ]
  },
  {
   "cell_type": "code",
   "execution_count": 9,
   "metadata": {
    "collapsed": true
   },
   "outputs": [],
   "source": [
    "from gmundo.alignment_utils import read_mapping_from_hubalign_alignment_file\n",
    "\n",
    "# Read mapping of the nodes of 2 different networks from Hubalign network alignment result file. \n",
    "# Alignment itself is performed out of scope of this notebook.\n",
    "mapping, i_mapping = read_mapping_from_hubalign_alignment_file(\"../data/hubalign_files/mouse-human-alignment-seq-sim-0.7\", human_nodelist, mouse_nodelist, 150, is_need_to_swap_columns = True)"
   ]
  },
  {
   "cell_type": "markdown",
   "metadata": {},
   "source": [
    "## Coembedding"
   ]
  },
  {
   "cell_type": "code",
   "execution_count": 10,
   "metadata": {
    "collapsed": true
   },
   "outputs": [],
   "source": [
    "# Computing the DSD matrices for human and mouse\n",
    "# This function takes a lot of time, so I have saved the numpy file to save time\n",
    "from gmundo.linalg import compute_dsd_embedding\n",
    "mouse_dsd  = compute_dsd_embedding(gmouse, mouse_nodelist)\n",
    "human_dsd  = compute_dsd_embedding(ghuman, human_nodelist)"
   ]
  },
  {
   "cell_type": "code",
   "execution_count": 11,
   "metadata": {
    "collapsed": true
   },
   "outputs": [],
   "source": [
    "import numpy as np\n",
    "np.save(\"human_dsd_emb.npy\", human_dsd)\n",
    "np.save(\"mouse_dsd_emb.npy\", mouse_dsd)\n",
    "#human_dsd = np.load(\"human_dsd_emb.npy\")\n",
    "#mouse_dsd = np.load(\"mouse_dsd_emb.npy\")"
   ]
  },
  {
   "cell_type": "code",
   "execution_count": null,
   "metadata": {
    "collapsed": true
   },
   "outputs": [],
   "source": [
    "from scipy.spatial.distance import squareform, pdist\n",
    "\n",
    "human_dist = squareform(pdist(human_dsd))\n",
    "mouse_dist = squareform(pdist(mouse_dsd))"
   ]
  },
  {
   "cell_type": "code",
   "execution_count": null,
   "metadata": {
    "collapsed": true
   },
   "outputs": [],
   "source": [
    "np.save(\"human_dist.npy\", human_dist)\n",
    "np.save(\"mouse_dist.npy\", mouse_dist)\n",
    "#human_dist = np.load(\"human_dist.npy\")\n",
    "#mouse_dist = np.load(\"mouse_dist.npy\")"
   ]
  },
  {
   "cell_type": "code",
   "execution_count": null,
   "metadata": {
    "collapsed": true
   },
   "outputs": [],
   "source": [
    "from sklearn.metrics.pairwise import laplacian_kernel\n",
    "gamma = 1 / 10\n",
    "human_rbf = laplacian_kernel(human_dist)\n",
    "mouse_rbf = laplacian_kernel(mouse_dist)\n",
    "np.save(\"human_rbf_0.1.npy\", human_rbf)\n",
    "np.save(\"mouse_rbf_0.1.npy\", mouse_rbf)"
   ]
  },
  {
   "cell_type": "code",
   "execution_count": null,
   "metadata": {
    "collapsed": true
   },
   "outputs": [],
   "source": [
    "from gmundo.coembed import coembed_networks\n",
    "human_rbf = np.load(\"human_rbf_0.1.npy\")\n",
    "mouse_rbf = np.load(\"mouse_rbf_0.1.npy\")\n",
    "# in this case mouse is a target and human is a source organism\n",
    "munk = coembed_networks(human_rbf, mouse_rbf, i_mapping, verbose = True)\n",
    "np.save(\"munk.npy\", munk)"
   ]
  },
  {
   "cell_type": "markdown",
   "metadata": {},
   "source": [
    "### PREDICTION using MUNK associations computed above"
   ]
  },
  {
   "cell_type": "code",
   "execution_count": 23,
   "metadata": {},
   "outputs": [
    {
     "name": "stdout",
     "output_type": "stream",
     "text": [
      "HMS:0:00:06.192351 335,350 annotations, 20,702 genes, 18,726 GOs, 1 taxids READ: ../data/go_files/gene2go \n",
      "18674 IDs in loaded association branch, molecular_function\n",
      "  EXISTS: ../data/go_files/go-basic.obo\n",
      "../data/go_files/go-basic.obo: fmt(1.2) rel(2021-12-15) 47,157 Terms; optional_attrs(relationship)\n",
      "Number of GO-terms: 32\n"
     ]
    }
   ],
   "source": [
    "from gmundo.prediction.go_process import get_go_labels\n",
    "\n",
    "filter_label = {\"namespace\": \"molecular_function\", \"min_level\": 5}\n",
    "filter_prot  = {\"namespace\": \"molecular_function\", \"lower_bound\": 50}\n",
    "human_labels, human_go_prots_dict = get_go_labels(filter_prot, filter_label, human_nodelist, \"../data/go_files/gene2go\", \"../data/go_files/go-basic.obo\", 9606, verbose = True)"
   ]
  },
  {
   "cell_type": "code",
   "execution_count": 24,
   "metadata": {},
   "outputs": [
    {
     "name": "stdout",
     "output_type": "stream",
     "text": [
      "HMS:0:00:06.016468 419,936 annotations, 29,777 genes, 18,906 GOs, 1 taxids READ: ../data/go_files/gene2go \n",
      "18880 IDs in loaded association branch, molecular_function\n",
      "  EXISTS: ../data/go_files/go-basic.obo\n",
      "../data/go_files/go-basic.obo: fmt(1.2) rel(2021-12-15) 47,157 Terms; optional_attrs(relationship)\n",
      "Number of GO-terms: 39\n"
     ]
    }
   ],
   "source": [
    "filter_label = {\"namespace\": \"molecular_function\", \"min_level\": 5}\n",
    "filter_prot  = {\"namespace\": \"molecular_function\", \"lower_bound\": 20}\n",
    "mouse_labels, mouse_go_prots_dict = get_go_labels(filter_prot, filter_label, mouse_nodelist, \"../data/go_files/gene2go\", \"../data/go_files/go-basic.obo\", 10090, verbose = True)"
   ]
  },
  {
   "cell_type": "code",
   "execution_count": 25,
   "metadata": {
    "collapsed": true
   },
   "outputs": [],
   "source": [
    "with open(\"human.json\", \"r\") as hj:\n",
    "    h_entrez_id = json.load(hj)\n",
    "with open(\"mouse.json\", \"r\") as mj:\n",
    "    m_entrez_id = json.load(mj)\n",
    "def get_prot_go_dict(go_prot_dict, entrez_id_map):\n",
    "    prot_go = {}\n",
    "    for l in go_prot_dict:\n",
    "        for p in go_prot_dict[l]:\n",
    "            if entrez_id_map[str(p)] not in prot_go:\n",
    "                prot_go[entrez_id_map[str(p)]] = [l]\n",
    "            else:\n",
    "                prot_go[entrez_id_map[str(p)]].append(l)\n",
    "    return prot_go\n",
    "mouse_prot_go = get_prot_go_dict(mouse_go_prots_dict, m_entrez_id)\n",
    "human_prot_go = get_prot_go_dict(human_go_prots_dict, h_entrez_id)\n"
   ]
  },
  {
   "cell_type": "code",
   "execution_count": 26,
   "metadata": {
    "collapsed": true
   },
   "outputs": [],
   "source": [
    "# Construct the target and MUNK maps\n",
    "mouse_rbf = np.load(\"mouse_rbf_0.1.npy\")\n",
    "mouse_neighbors = np.argsort(-mouse_rbf, axis = 1)\n",
    "# Need to discuss this\n",
    "mouse_neighbors = mouse_neighbors[:, :20]"
   ]
  },
  {
   "cell_type": "code",
   "execution_count": 27,
   "metadata": {
    "collapsed": true
   },
   "outputs": [],
   "source": [
    "munk  = np.load(\"munk.npy\")\n",
    "munk_neighbors = np.argsort(-munk, axis = 1)\n",
    "munk_neighbors = munk_neighbors[:, :20]\n",
    "\n",
    "def convert_to_dict(npy_neighbors):\n",
    "    ndict = {}\n",
    "    n, _  = npy_neighbors.shape\n",
    "    for i in range(n):\n",
    "        ndict[i] = npy_neighbors[i, :]\n",
    "    return ndict\n",
    "\n",
    "munk_neigh_dict = convert_to_dict(munk_neighbors)\n",
    "mouse_neigh_dict = convert_to_dict(mouse_neighbors)"
   ]
  },
  {
   "cell_type": "code",
   "execution_count": 67,
   "metadata": {
    "collapsed": true
   },
   "outputs": [],
   "source": [
    "# Constructing a predictor function\n",
    "from gmundo.prediction.predict import mundo_predict\n",
    "def construct_predictor_mundo(target_neighbors, munk_neighbors, source_prot_go, n_neighbors = 20, MUNK_weight = 0.25):\n",
    "    def predictor(target_prot_go):\n",
    "        return mundo_predict(target_neighbors,\n",
    "                             munk_neighbors,\n",
    "                             n_neighbors,\n",
    "                             target_prot_go,\n",
    "                             source_prot_go,\n",
    "                             MUNK_weight)\n",
    "    return predictor"
   ]
  },
  {
   "cell_type": "code",
   "execution_count": 68,
   "metadata": {
    "collapsed": true
   },
   "outputs": [],
   "source": [
    "from gmundo.prediction.scoring import kfoldcv\n",
    "accs = kfoldcv(5,\n",
    "              mouse_prot_go,\n",
    "              construct_predictor_mundo(mouse_neigh_dict,\n",
    "                                        munk_neigh_dict,\n",
    "                                       human_prot_go)\n",
    "              )"
   ]
  },
  {
   "cell_type": "code",
   "execution_count": 69,
   "metadata": {},
   "outputs": [
    {
     "data": {
      "text/plain": [
       "0.26574690516296356"
      ]
     },
     "execution_count": 69,
     "metadata": {},
     "output_type": "execute_result"
    }
   ],
   "source": [
    "np.mean(accs)"
   ]
  },
  {
   "cell_type": "code",
   "execution_count": null,
   "metadata": {
    "collapsed": true
   },
   "outputs": [],
   "source": []
  }
 ],
 "metadata": {
  "kernelspec": {
   "display_name": "Python 3",
   "language": "python",
   "name": "python3"
  },
  "language_info": {
   "codemirror_mode": {
    "name": "ipython",
    "version": 3
   },
   "file_extension": ".py",
   "mimetype": "text/x-python",
   "name": "python",
   "nbconvert_exporter": "python",
   "pygments_lexer": "ipython3",
   "version": "3.6.2"
  }
 },
 "nbformat": 4,
 "nbformat_minor": 5
}
