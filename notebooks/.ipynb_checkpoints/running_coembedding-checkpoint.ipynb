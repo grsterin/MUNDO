{
 "cells": [
  {
   "cell_type": "markdown",
   "id": "bb5995e4",
   "metadata": {},
   "source": [
    "## Getting the two networks"
   ]
  },
  {
   "cell_type": "code",
   "execution_count": 1,
   "id": "c9624099",
   "metadata": {},
   "outputs": [],
   "source": [
    "# Install a pip package in the current Jupyter kernel\n",
    "import sys\n",
    "sys.path.append('../')\n",
    "# This is only needed for jupyter notebook\n",
    "import json\n",
    "import networkx as nx\n",
    "import pandas as pd\n",
    "import numpy as np\n",
    "df_human = pd.read_csv(\"../data/biogrid_files/human.tsv\", sep = \"\\t\", header = None)\n",
    "df_mouse = pd.read_csv(\"../data/biogrid_files/mouse.tsv\", sep = \"\\t\", header = None)\n",
    "df_human['weight'] = 1\n",
    "df_mouse['weight'] = 1"
   ]
  },
  {
   "cell_type": "code",
   "execution_count": 2,
   "id": "ad69878c",
   "metadata": {},
   "outputs": [
    {
     "data": {
      "text/plain": [
       "'\\n# SAVING THE JSON FILES\\nwith open(\"human.json\", \"w\") as hj:\\n    human_map = {k:i for i, k in enumerate(human_nodelist)}\\n    json.dump(human_map, hj)\\nwith open(\"mouse.json\", \"w\") as mj:\\n    mouse_map = {k:i for i, k in enumerate(mouse_nodelist)}\\n    json.dump(mouse_map, mj)\\n'"
      ]
     },
     "execution_count": 2,
     "metadata": {},
     "output_type": "execute_result"
    }
   ],
   "source": [
    "ghuman = nx.from_pandas_edgelist(df_human, 0, 1, ['weight'])\n",
    "gmouse = nx.from_pandas_edgelist(df_mouse, 0, 1, ['weight'])\n",
    "human_nodelist = list(ghuman.nodes())\n",
    "mouse_nodelist = list(gmouse.nodes())\n",
    "\"\"\"\n",
    "# SAVING THE JSON FILES\n",
    "with open(\"human.json\", \"w\") as hj:\n",
    "    human_map = {k:i for i, k in enumerate(human_nodelist)}\n",
    "    json.dump(human_map, hj)\n",
    "with open(\"mouse.json\", \"w\") as mj:\n",
    "    mouse_map = {k:i for i, k in enumerate(mouse_nodelist)}\n",
    "    json.dump(mouse_map, mj)\n",
    "\"\"\"\n"
   ]
  },
  {
   "cell_type": "code",
   "execution_count": 3,
   "id": "31ba1d80",
   "metadata": {},
   "outputs": [],
   "source": [
    "from gmundo.alignment import isorank\n",
    "# matches = isorank(ghuman, gmouse, human_map, mouse_map, 1, 50, iterations = 2)\n",
    "# this isorank code takes too much space, so have to optimize this properly\n",
    "def randomized_mapping(n1, n2, n_mapping):\n",
    "    rn1 = np.random.permutation(len(n1))[:n_mapping]\n",
    "    rn2 = np.random.permutation(len(n2))[:n_mapping]\n",
    "    i_mapping = list(zip(rn1, rn2))\n",
    "    mapping   = [(n1[p], n2[q]) for p, q in zip(rn1, rn2)]\n",
    "    return mapping, i_mapping\n",
    "mapping, i_mapping = randomized_mapping(human_nodelist, mouse_nodelist, 50)"
   ]
  },
  {
   "cell_type": "code",
   "execution_count": 3,
   "id": "4157b610",
   "metadata": {},
   "outputs": [],
   "source": [
    "# Computing the DSD matrices for human and mouse\n",
    "# This function takes a lot of time, so I have saved the numpy file to save time\n",
    "from gmundo.linalg import compute_dsd_embedding\n",
    "mouse_dsd  = compute_dsd_embedding(gmouse, mouse_nodelist)\n",
    "human_dsd  = compute_dsd_embedding(ghuman, human_nodelist)"
   ]
  },
  {
   "cell_type": "code",
   "execution_count": 8,
   "id": "e70eb550",
   "metadata": {},
   "outputs": [],
   "source": [
    "import numpy as np\n",
    "np.save(\"human_dsd_emb.npy\", human_dsd)\n",
    "np.save(\"mouse_dsd_emb.npy\", mouse_dsd)"
   ]
  },
  {
   "cell_type": "code",
   "execution_count": 9,
   "id": "988a1eb9",
   "metadata": {},
   "outputs": [],
   "source": [
    "from scipy.spatial.distance import squareform, pdist\n",
    "\n",
    "human_dist = squareform(pdist(human_dsd))\n",
    "mouse_dist = squareform(pdist(mouse_dsd))"
   ]
  },
  {
   "cell_type": "code",
   "execution_count": 10,
   "id": "0dff0319",
   "metadata": {},
   "outputs": [],
   "source": [
    "np.save(\"human_dist.npy\", human_dist)\n",
    "np.save(\"mouse_dist.npy\", mouse_dist)"
   ]
  },
  {
   "cell_type": "code",
   "execution_count": 13,
   "id": "873f350b",
   "metadata": {},
   "outputs": [],
   "source": [
    "from sklearn.metrics.pairwise import laplacian_kernel\n",
    "gamma = 1 / 10\n",
    "human_rbf = laplacian_kernel(human_dist)\n",
    "mouse_rbf = laplacian_kernel(mouse_dist)\n",
    "np.save(\"human_rbf_0.1.npy\", human_rbf)\n",
    "np.save(\"mouse_rbf_0.1.npy\", mouse_rbf)"
   ]
  },
  {
   "cell_type": "code",
   "execution_count": 4,
   "id": "023425ab",
   "metadata": {},
   "outputs": [
    {
     "name": "stdout",
     "output_type": "stream",
     "text": [
      "\tComputing RKHS for source network... \n",
      "\tEmbedding matrices... \n",
      "\tCreating final munk matrix... \n"
     ]
    }
   ],
   "source": [
    "from gmundo.coembed import coembed_networks\n",
    "human_rbf = np.load(\"human_rbf_0.1.npy\")\n",
    "mouse_rbf = np.load(\"mouse_rbf_0.1.npy\")\n",
    "munk = coembed_networks(human_rbf, mouse_rbf, i_mapping, verbose = True)"
   ]
  },
  {
   "cell_type": "code",
   "execution_count": 6,
   "id": "98faf4bd",
   "metadata": {},
   "outputs": [],
   "source": [
    "np.save(\"munk.npy\", munk)"
   ]
  },
  {
   "cell_type": "markdown",
   "id": "f2e535e9",
   "metadata": {},
   "source": [
    "### PREDICTION using MUNK associations computed above"
   ]
  },
  {
   "cell_type": "code",
   "execution_count": 4,
   "id": "443d7ff9",
   "metadata": {},
   "outputs": [
    {
     "name": "stdout",
     "output_type": "stream",
     "text": [
      "HMS:0:00:02.654168 335,350 annotations, 20,702 genes, 18,726 GOs, 1 taxids READ: ../data/go_files/gene2go \n",
      "18674 IDs in loaded association branch, molecular_function\n",
      "  EXISTS: ../data/go_files/go-basic.obo\n",
      "../data/go_files/go-basic.obo: fmt(1.2) rel(2021-12-15) 47,157 Terms; optional_attrs(relationship)\n",
      "Number of GO-terms: 32\n"
     ]
    }
   ],
   "source": [
    "from gmundo.prediction.go_process import get_go_labels\n",
    "\n",
    "filter_label = {\"namespace\": \"molecular_function\", \"min_level\": 5}\n",
    "filter_prot  = {\"namespace\": \"molecular_function\", \"lower_bound\": 50}\n",
    "human_labels, human_go_prots_dict = get_go_labels(filter_prot, filter_label, human_nodelist, \"../data/go_files/gene2go\", \"../data/go_files/go-basic.obo\", 9606, verbose = True)"
   ]
  },
  {
   "cell_type": "code",
   "execution_count": 5,
   "id": "7b76fe0f",
   "metadata": {},
   "outputs": [
    {
     "name": "stdout",
     "output_type": "stream",
     "text": [
      "HMS:0:00:03.491622 419,936 annotations, 29,777 genes, 18,906 GOs, 1 taxids READ: ../data/go_files/gene2go \n",
      "18880 IDs in loaded association branch, molecular_function\n",
      "  EXISTS: ../data/go_files/go-basic.obo\n",
      "../data/go_files/go-basic.obo: fmt(1.2) rel(2021-12-15) 47,157 Terms; optional_attrs(relationship)\n",
      "Number of GO-terms: 39\n"
     ]
    }
   ],
   "source": [
    "filter_label = {\"namespace\": \"molecular_function\", \"min_level\": 5}\n",
    "filter_prot  = {\"namespace\": \"molecular_function\", \"lower_bound\": 20}\n",
    "mouse_labels, mouse_go_prots_dict = get_go_labels(filter_prot, filter_label, mouse_nodelist, \"../data/go_files/gene2go\", \"../data/go_files/go-basic.obo\", 10090, verbose = True)"
   ]
  },
  {
   "cell_type": "code",
   "execution_count": 6,
   "id": "efbffa58",
   "metadata": {},
   "outputs": [],
   "source": [
    "with open(\"human.json\", \"r\") as hj:\n",
    "    h_entrez_id = json.load(hj)\n",
    "with open(\"mouse.json\", \"r\") as mj:\n",
    "    m_entrez_id = json.load(mj)\n",
    "def get_prot_go_dict(go_prot_dict, entrez_id_map):\n",
    "    prot_go = {}\n",
    "    for l in go_prot_dict:\n",
    "        for p in go_prot_dict[l]:\n",
    "            if entrez_id_map[str(p)] not in prot_go:\n",
    "                prot_go[entrez_id_map[str(p)]] = l\n",
    "    return prot_go\n",
    "mouse_prot_go = get_prot_go_dict(mouse_go_prots_dict, m_entrez_id)\n",
    "human_prot_go = get_prot_go_dict(human_go_prots_dict, h_entrez_id)\n"
   ]
  },
  {
   "cell_type": "code",
   "execution_count": 16,
   "id": "2250ba24",
   "metadata": {},
   "outputs": [],
   "source": [
    "# Construct the target and MUNK maps\n",
    "mouse_rbf = np.load(\"mouse_rbf_0.1.npy\")\n",
    "mouse_neighbors = np.argsort(-mouse_rbf, axis = 1)\n",
    "# Need to discuss this\n",
    "mouse_neighbors = mouse_neighbors[:, :20]"
   ]
  },
  {
   "cell_type": "code",
   "execution_count": 19,
   "id": "80aad4f1",
   "metadata": {},
   "outputs": [
    {
     "name": "stdout",
     "output_type": "stream",
     "text": [
      "2192\n"
     ]
    },
    {
     "ename": "IndexError",
     "evalue": "index 2192 is out of bounds for axis 0 with size 2192",
     "output_type": "error",
     "traceback": [
      "\u001b[0;31m---------------------------------------------------------------------------\u001b[0m",
      "\u001b[0;31mIndexError\u001b[0m                                Traceback (most recent call last)",
      "\u001b[0;32m/tmp/ipykernel_169017/2410074728.py\u001b[0m in \u001b[0;36m<module>\u001b[0;34m\u001b[0m\n\u001b[1;32m     11\u001b[0m     \u001b[0;32mreturn\u001b[0m \u001b[0mndict\u001b[0m\u001b[0;34m\u001b[0m\u001b[0;34m\u001b[0m\u001b[0m\n\u001b[1;32m     12\u001b[0m \u001b[0;34m\u001b[0m\u001b[0m\n\u001b[0;32m---> 13\u001b[0;31m \u001b[0mmunk_neigh_dict\u001b[0m \u001b[0;34m=\u001b[0m \u001b[0mconvert_to_dict\u001b[0m\u001b[0;34m(\u001b[0m\u001b[0mmunk_neighbors\u001b[0m\u001b[0;34m)\u001b[0m\u001b[0;34m\u001b[0m\u001b[0;34m\u001b[0m\u001b[0m\n\u001b[0m\u001b[1;32m     14\u001b[0m \u001b[0mmouse_neigh_dict\u001b[0m \u001b[0;34m=\u001b[0m \u001b[0mconvert_to_dict\u001b[0m\u001b[0;34m(\u001b[0m\u001b[0mmouse_neighbors\u001b[0m\u001b[0;34m)\u001b[0m\u001b[0;34m\u001b[0m\u001b[0;34m\u001b[0m\u001b[0m\n",
      "\u001b[0;32m/tmp/ipykernel_169017/2410074728.py\u001b[0m in \u001b[0;36mconvert_to_dict\u001b[0;34m(npy_neighbors)\u001b[0m\n\u001b[1;32m      8\u001b[0m     \u001b[0mprint\u001b[0m\u001b[0;34m(\u001b[0m\u001b[0mn\u001b[0m\u001b[0;34m)\u001b[0m\u001b[0;34m\u001b[0m\u001b[0;34m\u001b[0m\u001b[0m\n\u001b[1;32m      9\u001b[0m     \u001b[0;32mfor\u001b[0m \u001b[0mi\u001b[0m \u001b[0;32min\u001b[0m \u001b[0mrange\u001b[0m\u001b[0;34m(\u001b[0m\u001b[0mn\u001b[0m\u001b[0;34m)\u001b[0m\u001b[0;34m:\u001b[0m\u001b[0;34m\u001b[0m\u001b[0;34m\u001b[0m\u001b[0m\n\u001b[0;32m---> 10\u001b[0;31m         \u001b[0mndict\u001b[0m\u001b[0;34m[\u001b[0m\u001b[0mn\u001b[0m\u001b[0;34m]\u001b[0m \u001b[0;34m=\u001b[0m \u001b[0mnpy_neighbors\u001b[0m\u001b[0;34m[\u001b[0m\u001b[0mn\u001b[0m\u001b[0;34m,\u001b[0m \u001b[0;34m:\u001b[0m\u001b[0;34m]\u001b[0m\u001b[0;34m\u001b[0m\u001b[0;34m\u001b[0m\u001b[0m\n\u001b[0m\u001b[1;32m     11\u001b[0m     \u001b[0;32mreturn\u001b[0m \u001b[0mndict\u001b[0m\u001b[0;34m\u001b[0m\u001b[0;34m\u001b[0m\u001b[0m\n\u001b[1;32m     12\u001b[0m \u001b[0;34m\u001b[0m\u001b[0m\n",
      "\u001b[0;31mIndexError\u001b[0m: index 2192 is out of bounds for axis 0 with size 2192"
     ]
    }
   ],
   "source": [
    "munk  = np.load(\"munk.npy\")\n",
    "munk_neighbors = np.argsort(-munk, axis = 1)\n",
    "munk_neighbors = munk_neighbors[:, :20]\n",
    "\n",
    "def convert_to_dict(npy_neighbors):\n",
    "    ndict = {}\n",
    "    n, _  = npy_neighbors.shape\n",
    "    for i in range(n):\n",
    "        ndict[i] = npy_neighbors[i, :]\n",
    "    return ndict\n",
    "\n",
    "munk_neigh_dict = convert_to_dict(munk_neighbors)\n",
    "mouse_neigh_dict = convert_to_dict(mouse_neighbors)"
   ]
  },
  {
   "cell_type": "code",
   "execution_count": 9,
   "id": "6c953166",
   "metadata": {},
   "outputs": [],
   "source": [
    "# Constructing a predictor function\n",
    "from gmundo.prediction.predict import MUNDO_predict\n",
    "def construct_predictor_MUNDO(target_neighbors, munk_neighbors, source_prot_go, n_neighbors = 20, MUNK_weight = 0.5):\n",
    "    def predictor(target_prot_go):\n",
    "        return MUNDO_predict(target_neighbors,\n",
    "                             munk_neighbors,\n",
    "                             n_neighbors,\n",
    "                             target_prot_go,\n",
    "                             source_prot_go,\n",
    "                             MUNK_weight)\n",
    "    return predictor"
   ]
  },
  {
   "cell_type": "code",
   "execution_count": 10,
   "id": "ad1ff912",
   "metadata": {},
   "outputs": [
    {
     "ename": "IndexError",
     "evalue": "invalid index to scalar variable.",
     "output_type": "error",
     "traceback": [
      "\u001b[0;31m---------------------------------------------------------------------------\u001b[0m",
      "\u001b[0;31mIndexError\u001b[0m                                Traceback (most recent call last)",
      "\u001b[0;32m/tmp/ipykernel_169017/1086291131.py\u001b[0m in \u001b[0;36m<module>\u001b[0;34m\u001b[0m\n\u001b[1;32m      4\u001b[0m               construct_predictor_MUNDO(mouse_neighbors,\n\u001b[1;32m      5\u001b[0m                                         \u001b[0mmunk_neighbors\u001b[0m\u001b[0;34m,\u001b[0m\u001b[0;34m\u001b[0m\u001b[0;34m\u001b[0m\u001b[0m\n\u001b[0;32m----> 6\u001b[0;31m                                        human_prot_go)\n\u001b[0m\u001b[1;32m      7\u001b[0m               )\n",
      "\u001b[0;32m~/Documents/Research/UNI-MUNDO/gmundo/prediction/scoring.py\u001b[0m in \u001b[0;36mkfoldcv\u001b[0;34m(k, labels, prediction_algorithm, randomized, degree_vec, reverse)\u001b[0m\n\u001b[1;32m    100\u001b[0m \u001b[0;34m\u001b[0m\u001b[0m\n\u001b[1;32m    101\u001b[0m         \u001b[0mtraining_labels\u001b[0m \u001b[0;34m=\u001b[0m \u001b[0;34m{\u001b[0m\u001b[0mn\u001b[0m\u001b[0;34m:\u001b[0m \u001b[0mlabels\u001b[0m\u001b[0;34m[\u001b[0m\u001b[0mn\u001b[0m\u001b[0;34m]\u001b[0m \u001b[0;32mfor\u001b[0m \u001b[0mn\u001b[0m \u001b[0;32min\u001b[0m \u001b[0mtraining_nodes\u001b[0m\u001b[0;34m}\u001b[0m\u001b[0;34m\u001b[0m\u001b[0;34m\u001b[0m\u001b[0m\n\u001b[0;32m--> 102\u001b[0;31m         \u001b[0mtest_labelling\u001b[0m  \u001b[0;34m=\u001b[0m \u001b[0mprediction_algorithm\u001b[0m\u001b[0;34m(\u001b[0m\u001b[0mtraining_labels\u001b[0m\u001b[0;34m)\u001b[0m\u001b[0;34m\u001b[0m\u001b[0;34m\u001b[0m\u001b[0m\n\u001b[0m\u001b[1;32m    103\u001b[0m \u001b[0;34m\u001b[0m\u001b[0m\n\u001b[1;32m    104\u001b[0m         accuracy = score_cv(test_nodes, \n",
      "\u001b[0;32m/tmp/ipykernel_169017/292836744.py\u001b[0m in \u001b[0;36mpredictor\u001b[0;34m(target_prot_go)\u001b[0m\n\u001b[1;32m      8\u001b[0m                              \u001b[0mtarget_prot_go\u001b[0m\u001b[0;34m,\u001b[0m\u001b[0;34m\u001b[0m\u001b[0;34m\u001b[0m\u001b[0m\n\u001b[1;32m      9\u001b[0m                              \u001b[0msource_prot_go\u001b[0m\u001b[0;34m,\u001b[0m\u001b[0;34m\u001b[0m\u001b[0;34m\u001b[0m\u001b[0m\n\u001b[0;32m---> 10\u001b[0;31m                              MUNK_weight)\n\u001b[0m\u001b[1;32m     11\u001b[0m     \u001b[0;32mreturn\u001b[0m \u001b[0mpredictor\u001b[0m\u001b[0;34m\u001b[0m\u001b[0;34m\u001b[0m\u001b[0m\n",
      "\u001b[0;32m~/Documents/Research/UNI-MUNDO/gmundo/prediction/predict.py\u001b[0m in \u001b[0;36mMUNDO_predict\u001b[0;34m(target_map, MUNK_map, n_neighbors, target_go_dict, source_go_dict, MUNK_weight)\u001b[0m\n\u001b[1;32m    119\u001b[0m             \u001b[0;32mcontinue\u001b[0m\u001b[0;34m\u001b[0m\u001b[0;34m\u001b[0m\u001b[0m\n\u001b[1;32m    120\u001b[0m \u001b[0;34m\u001b[0m\u001b[0m\n\u001b[0;32m--> 121\u001b[0;31m         \u001b[0mtarget_voters\u001b[0m \u001b[0;34m=\u001b[0m \u001b[0mtarget_map\u001b[0m\u001b[0;34m[\u001b[0m\u001b[0mp\u001b[0m\u001b[0;34m]\u001b[0m\u001b[0;34m[\u001b[0m\u001b[0;34m:\u001b[0m\u001b[0mn_target_neighbors\u001b[0m\u001b[0;34m]\u001b[0m\u001b[0;34m\u001b[0m\u001b[0;34m\u001b[0m\u001b[0m\n\u001b[0m\u001b[1;32m    122\u001b[0m         \u001b[0mMUNK_voters\u001b[0m   \u001b[0;34m=\u001b[0m \u001b[0mMUNK_map\u001b[0m\u001b[0;34m[\u001b[0m\u001b[0mp\u001b[0m\u001b[0;34m]\u001b[0m\u001b[0;34m[\u001b[0m\u001b[0;34m:\u001b[0m\u001b[0mn_MUNK_neighbors\u001b[0m\u001b[0;34m]\u001b[0m\u001b[0;34m\u001b[0m\u001b[0;34m\u001b[0m\u001b[0m\n\u001b[1;32m    123\u001b[0m \u001b[0;34m\u001b[0m\u001b[0m\n",
      "\u001b[0;31mIndexError\u001b[0m: invalid index to scalar variable."
     ]
    }
   ],
   "source": [
    "from gmundo.prediction.scoring import kfoldcv\n",
    "accs = kfoldcv(5,\n",
    "              mouse_prot_go,\n",
    "              construct_predictor_MUNDO(mouse_neighbors,\n",
    "                                        munk_neighbors,\n",
    "                                       human_prot_go)\n",
    "              )"
   ]
  },
  {
   "cell_type": "code",
   "execution_count": 11,
   "id": "ab06b649",
   "metadata": {},
   "outputs": [],
   "source": [
    "x = np.arange(9).reshape(3,3)"
   ]
  },
  {
   "cell_type": "code",
   "execution_count": 12,
   "id": "c7e9dc3f",
   "metadata": {},
   "outputs": [
    {
     "data": {
      "text/plain": [
       "array([[0, 1, 2],\n",
       "       [3, 4, 5],\n",
       "       [6, 7, 8]])"
      ]
     },
     "execution_count": 12,
     "metadata": {},
     "output_type": "execute_result"
    }
   ],
   "source": [
    "x"
   ]
  },
  {
   "cell_type": "code",
   "execution_count": 13,
   "id": "74b89a98",
   "metadata": {},
   "outputs": [
    {
     "data": {
      "text/plain": [
       "array([0, 1, 2])"
      ]
     },
     "execution_count": 13,
     "metadata": {},
     "output_type": "execute_result"
    }
   ],
   "source": [
    "x[0]"
   ]
  },
  {
   "cell_type": "code",
   "execution_count": null,
   "id": "272cf3d5",
   "metadata": {},
   "outputs": [],
   "source": []
  }
 ],
 "metadata": {
  "kernelspec": {
   "display_name": "Python 3 (ipykernel)",
   "language": "python",
   "name": "python3"
  },
  "language_info": {
   "codemirror_mode": {
    "name": "ipython",
    "version": 3
   },
   "file_extension": ".py",
   "mimetype": "text/x-python",
   "name": "python",
   "nbconvert_exporter": "python",
   "pygments_lexer": "ipython3",
   "version": "3.7.12"
  }
 },
 "nbformat": 4,
 "nbformat_minor": 5
}
