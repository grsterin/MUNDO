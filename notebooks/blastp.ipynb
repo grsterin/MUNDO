{
 "cells": [
  {
   "cell_type": "code",
   "execution_count": null,
   "id": "2215a4dc",
   "metadata": {},
   "outputs": [],
   "source": [
    "## Download the database\n",
    "\n",
    "#  wget 'http://groups.csail.mit.edu/cb/cablastp/cablastp-nr20130630.tar.gz'\n",
    "#  tar xf cablastp-nr20130630.tar.gz"
   ]
  },
  {
   "cell_type": "code",
   "execution_count": null,
   "id": "24549369",
   "metadata": {},
   "outputs": [],
   "source": [
    "# Show plots as part of the notebook and make tools available\n",
    "%matplotlib inline\n",
    "import matplotlib.pyplot as plt\n",
    "\n",
    "# Standard library packages\n",
    "import os\n",
    "\n",
    "# Import Numpy, Pandas and Seaborn\n",
    "import numpy as np\n",
    "import pandas as pd\n",
    "import seaborn as sns\n",
    "\n",
    "# Import Biopython tools for running local BLASTX\n",
    "from Bio.Blast.Applications import NcbiblastpCommandline\n",
    "\n",
    "# Colour scale transformation\n",
    "from matplotlib.colors import LogNorm"
   ]
  },
  {
   "cell_type": "code",
   "execution_count": null,
   "id": "f8e5a946",
   "metadata": {},
   "outputs": [],
   "source": [
    "# Input and output dir\n",
    "datadir = \"blast-p-data-in-human-yeast\"\n",
    "outdir = \"blast-p-data-out-human-yeast\"\n",
    "\n",
    "s1 = os.path.join(datadir, \"blast-p-data-in-human-yeast/biogrid_Human_ID_9606_sequences.fasta\")\n",
    "s2 = os.path.join(datadir, \"blast-p-data-in-human-yeast/biogrid_Yeast_ID_559292_sequences.fasta\")\n",
    "\n",
    "fwd_out = os.path.join(outdir, \"05-fwd-results.tab\")\n",
    "rev_out = os.path.join(outdir, \"05-rev-results.tab\")"
   ]
  },
  {
   "cell_type": "code",
   "execution_count": null,
   "id": "ad3d786f",
   "metadata": {},
   "outputs": [],
   "source": [
    "# Create BLAST command-lines for forward and reverse BLAST searches\n",
    "fwd_blastp = NcbiblastpCommandline(query=s1, subject=s2, out=fwd_out,\n",
    "                                   outfmt=\"\\'6 qseqid sseqid pident qcovs qlen slen length bitscore evalue\\'\",\n",
    "                                   max_target_seqs=1)\n",
    "rev_blastp = NcbiblastpCommandline(query=s2, subject=s1, out=rev_out,\n",
    "                                   outfmt=\"\\'6 qseqid sseqid pident qcovs qlen slen length bitscore evalue\\'\",\n",
    "                                   max_target_seqs=1)\n",
    "\n",
    "# Inspect command-lines\n",
    "print(\"FORWARD: %s\" % fwd_blastp)\n",
    "print(\"REVERSE: %s\" % rev_blastp)"
   ]
  },
  {
   "cell_type": "markdown",
   "id": "b24f4c69",
   "metadata": {},
   "source": [
    "# Forward blastp\n",
    "\n",
    "!../binaries/ncbi-blast-2.13.0+/bin/blastp -out blast-p-data-out-human-yeast/05-fwd-results.tab -outfmt 6 -query blast-p-data-in-human-yeast/biogrid_Human_ID_9606_sequences.fasta -max_target_seqs 1 -subject blast-p-data-in-human-yeast/biogrid_Yeast_ID_559292_sequences.fasta"
   ]
  },
  {
   "cell_type": "code",
   "execution_count": 20,
   "id": "bbfb222b",
   "metadata": {},
   "outputs": [
    {
     "name": "stdout",
     "output_type": "stream",
     "text": [
      "USAGE\r\n",
      "  blastp [-h] [-help] [-import_search_strategy filename]\r\n",
      "    [-export_search_strategy filename] [-task task_name] [-db database_name]\r\n",
      "    [-dbsize num_letters] [-gilist filename] [-seqidlist filename]\r\n",
      "    [-negative_gilist filename] [-negative_seqidlist filename]\r\n",
      "    [-taxids taxids] [-negative_taxids taxids] [-taxidlist filename]\r\n",
      "    [-negative_taxidlist filename] [-ipglist filename]\r\n",
      "    [-negative_ipglist filename] [-entrez_query entrez_query]\r\n",
      "    [-db_soft_mask filtering_algorithm] [-db_hard_mask filtering_algorithm]\r\n",
      "    [-subject subject_input_file] [-subject_loc range] [-query input_file]\r\n",
      "    [-out output_file] [-evalue evalue] [-word_size int_value]\r\n",
      "    [-gapopen open_penalty] [-gapextend extend_penalty]\r\n",
      "    [-qcov_hsp_perc float_value] [-max_hsps int_value]\r\n",
      "    [-xdrop_ungap float_value] [-xdrop_gap float_value]\r\n",
      "    [-xdrop_gap_final float_value] [-searchsp int_value] [-seg SEG_options]\r\n",
      "    [-soft_masking soft_masking] [-matrix matrix_name]\r\n",
      "    [-threshold float_value] [-culling_limit int_value]\r\n",
      "    [-best_hit_overhang float_value] [-best_hit_score_edge float_value]\r\n",
      "    [-subject_besthit] [-window_size int_value] [-lcase_masking]\r\n",
      "    [-query_loc range] [-parse_deflines] [-outfmt format] [-show_gis]\r\n",
      "    [-num_descriptions int_value] [-num_alignments int_value]\r\n",
      "    [-line_length line_length] [-html] [-sorthits sort_hits]\r\n",
      "    [-sorthsps sort_hsps] [-max_target_seqs num_sequences]\r\n",
      "    [-num_threads int_value] [-mt_mode int_value] [-ungapped] [-remote]\r\n",
      "    [-comp_based_stats compo] [-use_sw_tback] [-version]\r\n",
      "\r\n",
      "DESCRIPTION\r\n",
      "   Protein-Protein BLAST 2.13.0+\r\n",
      "\r\n",
      "Use '-help' to print detailed descriptions of command line arguments\r\n",
      "========================================================================\r\n",
      "\r\n",
      "Error: Invalid argument name: -help#\r\n",
      "Error:  (CArgException::eInvalidArg) Invalid argument name: -help#\r\n"
     ]
    }
   ],
   "source": [
    "# Reverse blastp\n",
    "# num_threads \n",
    "!../binaries/ncbi-blast-2.13.0+/bin/blastp --help# -out biogrid_Yeast_ID_559292_sequences.fasta -max_target_seqs 1 -subject blast-p-data-in-human-yeast/biogrid_Human_ID_9606_sequences.fasta"
   ]
  },
  {
   "cell_type": "markdown",
   "id": "66fdc728",
   "metadata": {},
   "source": [
    "**Loading BLAST results**\n",
    "\n",
    "Once the BLAST searches are finished, you can load the tabular format results into two pandas dataframes, so that the output can be modified and inspected.\n",
    "\n",
    "The BLAST output does not come with column headers in the file, so we have to add these ourselves, to match the columns requested in the original BLAST query.\n",
    "\n",
    "<p></p>\n",
    "<div class=\"alert-success\">\n",
    "The cell below loads in pre-calculated results, to save lesson time. To use results calculated by the cell above, comment out the lines defining `fwd_out` and `rev_out`.</div>"
   ]
  },
  {
   "cell_type": "code",
   "execution_count": null,
   "id": "0483bc9d",
   "metadata": {},
   "outputs": [],
   "source": [
    "# Load the BLAST results into Pandas dataframes\n",
    "fwd_results = pd.read_csv(fwd_out, sep=\"\\t\", header=None)\n",
    "rev_results = pd.read_csv(rev_out, sep=\"\\t\", header=None)\n",
    "\n",
    "# Add headers to forward and reverse results dataframes\n",
    "headers = [\"query\", \"subject\", \"identity\", \"coverage\",\n",
    "           \"qlength\", \"slength\", \"alength\",\n",
    "           \"bitscore\", \"E-value\"]\n",
    "fwd_results.columns = headers\n",
    "rev_results.columns = headers"
   ]
  },
  {
   "cell_type": "markdown",
   "id": "70f9bab1",
   "metadata": {},
   "source": [
    "**Normalised bit score, and coverage**\n",
    "\n",
    "<p></p>\n",
    "<div class=\"alert-success\">\n",
    "Before you examine the `BLAST` results themselves, it is useful to define a new quantity: the normalised bitscore.\n",
    "</div>\n",
    "\n",
    "<p></p>\n",
    "The bitscore reported by BLAST is the sum of the qualities of the aligned symbols over the whole alignment. This is an accurate measure of the alignment strength, but long sequences tend to have higher bitscores than short sequences, even when the matches are of about the same quality. To correct for this length effect, we can calculate a normalised bitscore where:\n",
    "\n",
    "$$\\mathrm{normalised\\ bitscore = \\frac{bitscore}{query\\ length}}$$\n",
    "\n",
    "This makes comparisons of bitscore between proteins of different lengths fairer.\n",
    "\n",
    "\n",
    "Calculations using pandas columns\n",
    "\n",
    "Rather than looping over every item in a pandas dataframe column, it is possible to carry out calculations on entire columns in one action. So, to divide the contents of the bitscore column by the contents of the qlength column in the fwd_results dataframe, on a row-by-row basis, we can use the Python code:\n",
    "\n",
    "$$\\mathrm{norm\\_bitscore = fwd\\_results.bitscore/fwd\\_results.qlength}$$\n",
    "\n",
    "<p></p>\n",
    "<div class=\"alert-success\">\n",
    "You will also find it useful to consider two types of coverage: query coverage and alignment coverage.\n",
    "</div>\n",
    "    \n",
    "The query and subject sequences in a BLAST alignment may not be of the same length, so it is possible that an alignment that covers the whole of one of the sequences may only cover a small part of the other sequence (e.g. if the query sequence is a single domain protein, and that domain is part of a multi-domain protein subject sequence). That is to say, for the same alignment, the coverage of the query and the subject sequences can differ. BLAST+ only reports the query coverage, so we must calculate subject coverage ourselves.\n",
    "\n",
    "We can define two more columns in the dataframe:\n",
    "\n",
    "$$\\mathrm{query\\ coverage=\\frac{alignment\\ length}{query\\ length}}$$\n",
    "$$\\mathrm{subject\\ coverage=\\frac{alignment\\ length}{subject\\ length}}$$"
   ]
  },
  {
   "cell_type": "code",
   "execution_count": null,
   "id": "c5a8880c",
   "metadata": {},
   "outputs": [],
   "source": [
    "# Create a new column in both dataframes: normalised bitscore\n",
    "fwd_results['norm_bitscore'] = fwd_results.bitscore/fwd_results.qlength\n",
    "rev_results['norm_bitscore'] = rev_results.bitscore/rev_results.qlength\n",
    "\n",
    "# Create query and subject coverage columns in both dataframes\n",
    "fwd_results['qcov'] = fwd_results.alength/fwd_results.qlength\n",
    "rev_results['qcov'] = rev_results.alength/rev_results.qlength\n",
    "fwd_results['scov'] = fwd_results.alength/fwd_results.slength\n",
    "rev_results['scov'] = rev_results.alength/rev_results.slength\n",
    "\n",
    "# Clip maximum coverage values at 1.0\n",
    "fwd_results['qcov'] = fwd_results['qcov'].clip_upper(1)\n",
    "rev_results['qcov'] = rev_results['qcov'].clip_upper(1)\n",
    "fwd_results['scov'] = fwd_results['scov'].clip_upper(1)\n",
    "rev_results['scov'] = rev_results['scov'].clip_upper(1)"
   ]
  },
  {
   "cell_type": "code",
   "execution_count": null,
   "id": "4950c312",
   "metadata": {},
   "outputs": [],
   "source": [
    "# Inspect the forward results data\n",
    "fwd_results.head()"
   ]
  },
  {
   "cell_type": "code",
   "execution_count": null,
   "id": "884647a6",
   "metadata": {},
   "outputs": [],
   "source": [
    "# Inspect the reverse results data\n",
    "rev_results.head()"
   ]
  },
  {
   "cell_type": "markdown",
   "id": "ecd178bd",
   "metadata": {},
   "source": [
    "**Visualising one-way match results**\n",
    "\n",
    "<p></p>\n",
    "<div class=\"alert-success\">\n",
    "Each result dataframe contains one row per query sequence, showing the best match, and some properties of the sequence alignment.\n",
    "</div>\n",
    "\n",
    "Using the seaborn package, you can summarise elements of this data visually, to get some insight into an organism-vs-organism BLAST search. For instance, a single line of code can produce a distribution plot (kernel density estimate, and histogram) of the bitscore for each BLAST hit. The bitscore encapsulates the quality of the match, and is a single measure that reflects the number of similar residues in the alignment, and their similarity.\n"
   ]
  },
  {
   "cell_type": "code",
   "execution_count": 19,
   "id": "6da5a80d",
   "metadata": {},
   "outputs": [
    {
     "ename": "NameError",
     "evalue": "name 'fwd_results' is not defined",
     "output_type": "error",
     "traceback": [
      "\u001b[0;31m---------------------------------------------------------------------------\u001b[0m",
      "\u001b[0;31mNameError\u001b[0m                                 Traceback (most recent call last)",
      "\u001b[0;32m/tmp/ipykernel_62400/3689948569.py\u001b[0m in \u001b[0;36m<module>\u001b[0;34m\u001b[0m\n\u001b[1;32m      4\u001b[0m \u001b[0;34m\u001b[0m\u001b[0m\n\u001b[1;32m      5\u001b[0m \u001b[0;31m# Plot distribution of forward and reverse hit bitscores\u001b[0m\u001b[0;34m\u001b[0m\u001b[0;34m\u001b[0m\u001b[0;34m\u001b[0m\u001b[0m\n\u001b[0;32m----> 6\u001b[0;31m \u001b[0msns\u001b[0m\u001b[0;34m.\u001b[0m\u001b[0mdistplot\u001b[0m\u001b[0;34m(\u001b[0m\u001b[0mfwd_results\u001b[0m\u001b[0;34m.\u001b[0m\u001b[0mnorm_bitscore\u001b[0m\u001b[0;34m,\u001b[0m \u001b[0mcolor\u001b[0m\u001b[0;34m=\u001b[0m\u001b[0;34m\"b\"\u001b[0m\u001b[0;34m,\u001b[0m \u001b[0max\u001b[0m\u001b[0;34m=\u001b[0m\u001b[0maxes\u001b[0m\u001b[0;34m[\u001b[0m\u001b[0;36m0\u001b[0m\u001b[0;34m]\u001b[0m\u001b[0;34m,\u001b[0m \u001b[0maxlabel\u001b[0m\u001b[0;34m=\u001b[0m\u001b[0;34m\"forward normalised bitscores\"\u001b[0m\u001b[0;34m)\u001b[0m\u001b[0;34m\u001b[0m\u001b[0;34m\u001b[0m\u001b[0m\n\u001b[0m\u001b[1;32m      7\u001b[0m \u001b[0msns\u001b[0m\u001b[0;34m.\u001b[0m\u001b[0mdistplot\u001b[0m\u001b[0;34m(\u001b[0m\u001b[0mrev_results\u001b[0m\u001b[0;34m.\u001b[0m\u001b[0mnorm_bitscore\u001b[0m\u001b[0;34m,\u001b[0m \u001b[0mcolor\u001b[0m\u001b[0;34m=\u001b[0m\u001b[0;34m\"g\"\u001b[0m\u001b[0;34m,\u001b[0m \u001b[0max\u001b[0m\u001b[0;34m=\u001b[0m\u001b[0maxes\u001b[0m\u001b[0;34m[\u001b[0m\u001b[0;36m1\u001b[0m\u001b[0;34m]\u001b[0m\u001b[0;34m,\u001b[0m \u001b[0maxlabel\u001b[0m\u001b[0;34m=\u001b[0m\u001b[0;34m\"reverse normalised bitscores\"\u001b[0m\u001b[0;34m)\u001b[0m\u001b[0;34m;\u001b[0m\u001b[0;34m\u001b[0m\u001b[0;34m\u001b[0m\u001b[0m\n",
      "\u001b[0;31mNameError\u001b[0m: name 'fwd_results' is not defined"
     ]
    },
    {
     "data": {
      "image/png": "[encoded data removed]",
      "text/plain": [
       "<Figure size 1008x504 with 2 Axes>"
      ]
     },
     "metadata": {
      "needs_background": "light"
     },
     "output_type": "display_data"
    }
   ],
   "source": [
    "# Set up the figure\n",
    "f, axes = plt.subplots(1, 2, figsize=(14, 7), sharex=True)\n",
    "sns.despine(left=True)\n",
    "\n",
    "# Plot distribution of forward and reverse hit bitscores\n",
    "sns.distplot(fwd_results.norm_bitscore, color=\"b\", ax=axes[0], axlabel=\"forward normalised bitscores\")\n",
    "sns.distplot(rev_results.norm_bitscore, color=\"g\", ax=axes[1], axlabel=\"reverse normalised bitscores\");"
   ]
  },
  {
   "cell_type": "markdown",
   "id": "f466c3b1",
   "metadata": {},
   "source": [
    "**The two plots that result from this code show the distributions of the one-way best hit BLAST bitscores.**\n",
    "\n",
    "<p></p>\n",
    "<div class=\"alert-success\">\n",
    "The first thing you have probably noticed is that the distributions are *bimodal*: most hits lie in the main bulk of the distribution, but in both the forward and reverse searches there is a relatively small set of matches that have a low bitscore. These are likely to be low-quality matches that are either very short, sequence-dissimilar, or both.\n",
    "</div>\n",
    "    \n",
    "**A second plot that is useful for interpretation is the heatmap/2D density plot of query sequence coverage and subject sequence coverage:**"
   ]
  },
  {
   "cell_type": "code",
   "execution_count": null,
   "id": "e1f1c904",
   "metadata": {},
   "outputs": [],
   "source": [
    "# Plot 2D density histograms\n",
    "# !! YOU DO NOT NEED TO UNDERSTAND THIS CODE TO FOLLOW THE LESSON !!\n",
    "\n",
    "# Calculate 2D density histograms for counts of matches at several coverage levels\n",
    "(Hfwd, xedgesf, yedgesf) = np.histogram2d(fwd_results.qcov, fwd_results.scov, bins=20)\n",
    "(Hrev, xedgesr, yedgesr) = np.histogram2d(rev_results.qcov, rev_results.scov, bins=20)\n",
    "\n",
    "# Create a 1x2 figure array\n",
    "fig, axes = plt.subplots(1, 2, figsize=(15, 6), sharex=True, sharey=True)\n",
    "\n",
    "# Plot histogram for forward matches\n",
    "im = axes[0].imshow(Hfwd, cmap=plt.cm.Blues, norm=LogNorm(),\n",
    "                    extent=[xedgesf[0], xedgesf[-1], yedgesf[0], yedgesf[-1]],\n",
    "                    origin='lower', aspect=1)\n",
    "axes[0].set_title(\"Forward\")\n",
    "axes[0].set_xlabel(\"query\")\n",
    "axes[0].set_ylabel(\"subject\")\n",
    "\n",
    "# Plot histogram for reverse matches\n",
    "im = axes[1].imshow(Hrev, cmap=plt.cm.Blues, norm=LogNorm(),\n",
    "                    extent=[xedgesr[0], xedgesr[-1], yedgesr[0], yedgesr[-1]],\n",
    "                    origin='lower', aspect=1)\n",
    "axes[1].set_title(\"Reverse\")\n",
    "axes[1].set_xlabel(\"query\")\n",
    "axes[1].set_ylabel(\"subject\")\n",
    "\n",
    "# Add colourbars\n",
    "fig.colorbar(im, ax=axes[0])\n",
    "fig.colorbar(im, ax=axes[1]);"
   ]
  },
  {
   "cell_type": "markdown",
   "id": "6a16c48b",
   "metadata": {},
   "source": [
    "%run -i perform_reciprocal_blast.py --blast_loc ../binaries/ncbi-blast-2.13.0+/bin/blastp --no_threads_for_blast 1 --source_fasta blast-p-data-in-human-yeast/biogrid_Human_ID_9606_sequences.fasta --target_fasta blast-p-data-in-human-yeast/biogrid_Yeast_ID_559292_sequences.fasta --out_forward forward.log --out_reverse reverse.log --final_op output.tsv --verbose"
   ]
  },
  {
   "cell_type": "code",
   "execution_count": 74,
   "id": "e06fece6",
   "metadata": {},
   "outputs": [
    {
     "name": "stdout",
     "output_type": "stream",
     "text": [
      "^C\r\n"
     ]
    }
   ],
   "source": [
    "!../binaries/ncbi-blast-2.13.0+/bin/blastp -out forward.log -outfmt 6 -query blast-p-data-in-human-yeast/biogrid_Human_ID_9606_sequences.fasta -subject blast-p-data-in-human-yeast/biogrid_Yeast_ID_559292_sequences.fasta -num_threads 1"
   ]
  },
  {
   "cell_type": "code",
   "execution_count": null,
   "id": "12eb55ad",
   "metadata": {},
   "outputs": [],
   "source": []
  },
  {
   "cell_type": "code",
   "execution_count": null,
   "id": "67c1bbd6",
   "metadata": {},
   "outputs": [],
   "source": []
  }
 ],
 "metadata": {
  "kernelspec": {
   "display_name": "Python 3 (ipykernel)",
   "language": "python",
   "name": "python3"
  },
  "language_info": {
   "codemirror_mode": {
    "name": "ipython",
    "version": 3
   },
   "file_extension": ".py",
   "mimetype": "text/x-python",
   "name": "python",
   "nbconvert_exporter": "python",
   "pygments_lexer": "ipython3",
   "version": "3.7.12"
  }
 },
 "nbformat": 4,
 "nbformat_minor": 5
}
