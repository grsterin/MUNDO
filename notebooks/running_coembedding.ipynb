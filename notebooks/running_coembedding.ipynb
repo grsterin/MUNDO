{
 "cells": [
  {
   "cell_type": "markdown",
   "id": "4168afa8",
   "metadata": {},
   "source": [
    "## Imports"
   ]
  },
  {
   "cell_type": "code",
   "execution_count": 1,
   "id": "772ead9b",
   "metadata": {},
   "outputs": [],
   "source": [
    "# Install a pip package in the current Jupyter kernel\n",
    "import sys\n",
    "sys.path.append('../')\n",
    "# This is only needed for jupyter notebook\n",
    "import json\n",
    "import networkx as nx\n",
    "import pandas as pd\n",
    "import numpy as np"
   ]
  },
  {
   "cell_type": "markdown",
   "id": "dc4dc3cb",
   "metadata": {},
   "source": [
    "## Read networks from biogrid files"
   ]
  },
  {
   "cell_type": "code",
   "execution_count": 2,
   "id": "0fbe4b56",
   "metadata": {},
   "outputs": [],
   "source": [
    "#from gmundo.network_op import read_network_from_biogrid_file\n",
    "\n",
    "ghuman = nx.read_edgelist(\"../data/biogrid_files/human.tsv\")\n",
    "gmouse = nx.read_edgelist(\"../data/biogrid_files/mouse.tsv\")\n",
    "\n",
    "human_nodelist = list(ghuman.nodes())\n",
    "mouse_nodelist = list(gmouse.nodes())\n",
    "\n",
    "#save edge lists as tsv\n",
    "#nx.write_edgelist(ghuman, \"human.tsv\", data=False, delimiter='\\t')\n",
    "#nx.write_edgelist(gmouse, \"mouse.tsv\", data=False, delimiter='\\t')\n",
    "\n",
    "# SAVING THE JSON FILES\n",
    "with open(\"human.json\", \"w\") as hj:\n",
    "    human_map = {k:i for i, k in enumerate(human_nodelist)}\n",
    "    json.dump(human_map, hj)\n",
    "with open(\"mouse.json\", \"w\") as mj:\n",
    "    mouse_map = {k:i for i, k in enumerate(mouse_nodelist)}\n",
    "    json.dump(mouse_map, mj)\n",
    "\n"
   ]
  },
  {
   "cell_type": "code",
   "execution_count": 56,
   "id": "f6e99840",
   "metadata": {},
   "outputs": [],
   "source": [
    "ghuman = nx.read_edgelist(\"../data/biogrid_files/mouse.tsv\")\n",
    "gmouse = nx.read_edgelist(\"../data/biogrid_files/human.tsv\")\n",
    "ghuman_sub = ghuman.subgraph(list(ghuman.nodes())[100:200])\n",
    "gmouse_sub = gmouse.subgraph(list(gmouse.nodes())[100:200])\n",
    "human_nodelist = list(ghuman_sub.nodes())\n",
    "mouse_nodelist = list(gmouse_sub.nodes())\n",
    "human_map = {k:i for i, k in enumerate(human_nodelist)}\n",
    "mouse_map = {k:i for i, k in enumerate(mouse_nodelist)}"
   ]
  },
  {
   "cell_type": "code",
   "execution_count": 57,
   "id": "6fdeb107",
   "metadata": {},
   "outputs": [
    {
     "data": {
      "text/plain": [
       "<networkx.classes.graph.Graph at 0x7f59024aef90>"
      ]
     },
     "execution_count": 57,
     "metadata": {},
     "output_type": "execute_result"
    }
   ],
   "source": [
    "gmouse_sub"
   ]
  },
  {
   "cell_type": "markdown",
   "id": "e925a52c",
   "metadata": {},
   "source": [
    "## Network alignment"
   ]
  },
  {
   "cell_type": "markdown",
   "id": "d116af37",
   "metadata": {},
   "source": [
    "### Isorank"
   ]
  },
  {
   "cell_type": "code",
   "execution_count": 61,
   "id": "af53dfb3",
   "metadata": {},
   "outputs": [
    {
     "name": "stdout",
     "output_type": "stream",
     "text": [
      "Running iterations 0...\n"
     ]
    },
    {
     "name": "stderr",
     "output_type": "stream",
     "text": [
      "100%|███████████████████████████████████████████████████████████████████████████████████████████████████████████████████████████████████████████████████████████████████████████████████████████████| 10000/10000 [00:01<00:00, 7118.17it/s]\n"
     ]
    },
    {
     "name": "stdout",
     "output_type": "stream",
     "text": [
      "Running iterations 1...\n"
     ]
    },
    {
     "name": "stderr",
     "output_type": "stream",
     "text": [
      "100%|███████████████████████████████████████████████████████████████████████████████████████████████████████████████████████████████████████████████████████████████████████████████████████████████| 10000/10000 [00:01<00:00, 7034.18it/s]\n"
     ]
    },
    {
     "name": "stdout",
     "output_type": "stream",
     "text": [
      "Running iterations 2...\n"
     ]
    },
    {
     "name": "stderr",
     "output_type": "stream",
     "text": [
      "100%|███████████████████████████████████████████████████████████████████████████████████████████████████████████████████████████████████████████████████████████████████████████████████████████████| 10000/10000 [00:01<00:00, 7138.75it/s]\n"
     ]
    },
    {
     "name": "stdout",
     "output_type": "stream",
     "text": [
      "Running iterations 3...\n"
     ]
    },
    {
     "name": "stderr",
     "output_type": "stream",
     "text": [
      "100%|███████████████████████████████████████████████████████████████████████████████████████████████████████████████████████████████████████████████████████████████████████████████████████████████| 10000/10000 [00:01<00:00, 7135.60it/s]\n"
     ]
    },
    {
     "name": "stdout",
     "output_type": "stream",
     "text": [
      "Running iterations 4...\n"
     ]
    },
    {
     "name": "stderr",
     "output_type": "stream",
     "text": [
      "100%|███████████████████████████████████████████████████████████████████████████████████████████████████████████████████████████████████████████████████████████████████████████████████████████████| 10000/10000 [00:01<00:00, 7050.53it/s]\n"
     ]
    },
    {
     "name": "stdout",
     "output_type": "stream",
     "text": [
      "Running iterations 5...\n"
     ]
    },
    {
     "name": "stderr",
     "output_type": "stream",
     "text": [
      "100%|███████████████████████████████████████████████████████████████████████████████████████████████████████████████████████████████████████████████████████████████████████████████████████████████| 10000/10000 [00:01<00:00, 6899.75it/s]\n"
     ]
    },
    {
     "name": "stdout",
     "output_type": "stream",
     "text": [
      "Running iterations 6...\n"
     ]
    },
    {
     "name": "stderr",
     "output_type": "stream",
     "text": [
      "100%|███████████████████████████████████████████████████████████████████████████████████████████████████████████████████████████████████████████████████████████████████████████████████████████████| 10000/10000 [00:01<00:00, 7149.36it/s]\n"
     ]
    },
    {
     "name": "stdout",
     "output_type": "stream",
     "text": [
      "Running iterations 7...\n"
     ]
    },
    {
     "name": "stderr",
     "output_type": "stream",
     "text": [
      "100%|███████████████████████████████████████████████████████████████████████████████████████████████████████████████████████████████████████████████████████████████████████████████████████████████| 10000/10000 [00:01<00:00, 7074.82it/s]\n"
     ]
    },
    {
     "name": "stdout",
     "output_type": "stream",
     "text": [
      "Running iterations 8...\n"
     ]
    },
    {
     "name": "stderr",
     "output_type": "stream",
     "text": [
      "100%|███████████████████████████████████████████████████████████████████████████████████████████████████████████████████████████████████████████████████████████████████████████████████████████████| 10000/10000 [00:01<00:00, 7052.76it/s]\n"
     ]
    },
    {
     "name": "stdout",
     "output_type": "stream",
     "text": [
      "Running iterations 9...\n"
     ]
    },
    {
     "name": "stderr",
     "output_type": "stream",
     "text": [
      "100%|███████████████████████████████████████████████████████████████████████████████████████████████████████████████████████████████████████████████████████████████████████████████████████████████| 10000/10000 [00:01<00:00, 6982.32it/s]"
     ]
    },
    {
     "name": "stdout",
     "output_type": "stream",
     "text": [
      "Number of pairings... 50\n",
      "Len(ps) = 10000 Len(qs) = 10000\n",
      "Break complete\n",
      "50\n"
     ]
    },
    {
     "name": "stderr",
     "output_type": "stream",
     "text": [
      "\n"
     ]
    }
   ],
   "source": [
    "from gmundo.alignment import isorank\n",
    "it = 10\n",
    "ch = 1\n",
    "matches = isorank(ghuman_sub, gmouse_sub, human_map, mouse_map, 1, 50, iterations = it, saveto=f\"isomap_mappings_{it}_{ch}.tsv\",\n",
    "                 rowname=\"human\",\n",
    "                 colname=\"mouse\")"
   ]
  },
  {
   "cell_type": "code",
   "execution_count": 62,
   "id": "4035c108",
   "metadata": {},
   "outputs": [
    {
     "data": {
      "text/html": [
       "<div>\n",
       "<style scoped>\n",
       "    .dataframe tbody tr th:only-of-type {\n",
       "        vertical-align: middle;\n",
       "    }\n",
       "\n",
       "    .dataframe tbody tr th {\n",
       "        vertical-align: top;\n",
       "    }\n",
       "\n",
       "    .dataframe thead th {\n",
       "        text-align: right;\n",
       "    }\n",
       "</style>\n",
       "<table border=\"1\" class=\"dataframe\">\n",
       "  <thead>\n",
       "    <tr style=\"text-align: right;\">\n",
       "      <th></th>\n",
       "      <th>human</th>\n",
       "      <th>mouse</th>\n",
       "      <th>weight_x</th>\n",
       "      <th>weight_y</th>\n",
       "    </tr>\n",
       "  </thead>\n",
       "  <tbody>\n",
       "    <tr>\n",
       "      <th>0</th>\n",
       "      <td>13555</td>\n",
       "      <td>2252</td>\n",
       "      <td>0.233165</td>\n",
       "      <td>0.300422</td>\n",
       "    </tr>\n",
       "    <tr>\n",
       "      <th>1</th>\n",
       "      <td>233908</td>\n",
       "      <td>3984</td>\n",
       "      <td>0.174874</td>\n",
       "      <td>0.200379</td>\n",
       "    </tr>\n",
       "    <tr>\n",
       "      <th>2</th>\n",
       "      <td>12421</td>\n",
       "      <td>2260</td>\n",
       "      <td>0.174874</td>\n",
       "      <td>0.200379</td>\n",
       "    </tr>\n",
       "    <tr>\n",
       "      <th>3</th>\n",
       "      <td>21687</td>\n",
       "      <td>4301</td>\n",
       "      <td>0.136013</td>\n",
       "      <td>0.035925</td>\n",
       "    </tr>\n",
       "    <tr>\n",
       "      <th>5</th>\n",
       "      <td>22030</td>\n",
       "      <td>11337</td>\n",
       "      <td>0.129536</td>\n",
       "      <td>0.113277</td>\n",
       "    </tr>\n",
       "    <tr>\n",
       "      <th>6</th>\n",
       "      <td>12125</td>\n",
       "      <td>904</td>\n",
       "      <td>0.125550</td>\n",
       "      <td>0.019705</td>\n",
       "    </tr>\n",
       "    <tr>\n",
       "      <th>10</th>\n",
       "      <td>21349</td>\n",
       "      <td>2224</td>\n",
       "      <td>0.116582</td>\n",
       "      <td>0.100336</td>\n",
       "    </tr>\n",
       "    <tr>\n",
       "      <th>13</th>\n",
       "      <td>20466</td>\n",
       "      <td>3084</td>\n",
       "      <td>0.116582</td>\n",
       "      <td>0.100336</td>\n",
       "    </tr>\n",
       "    <tr>\n",
       "      <th>22</th>\n",
       "      <td>13368</td>\n",
       "      <td>3791</td>\n",
       "      <td>0.077722</td>\n",
       "      <td>0.112656</td>\n",
       "    </tr>\n",
       "    <tr>\n",
       "      <th>25</th>\n",
       "      <td>53331</td>\n",
       "      <td>149428</td>\n",
       "      <td>0.074946</td>\n",
       "      <td>0.029947</td>\n",
       "    </tr>\n",
       "    <tr>\n",
       "      <th>48</th>\n",
       "      <td>20467</td>\n",
       "      <td>3717</td>\n",
       "      <td>0.048616</td>\n",
       "      <td>0.025337</td>\n",
       "    </tr>\n",
       "  </tbody>\n",
       "</table>\n",
       "</div>"
      ],
      "text/plain": [
       "     human   mouse  weight_x  weight_y\n",
       "0    13555    2252  0.233165  0.300422\n",
       "1   233908    3984  0.174874  0.200379\n",
       "2    12421    2260  0.174874  0.200379\n",
       "3    21687    4301  0.136013  0.035925\n",
       "5    22030   11337  0.129536  0.113277\n",
       "6    12125     904  0.125550  0.019705\n",
       "10   21349    2224  0.116582  0.100336\n",
       "13   20466    3084  0.116582  0.100336\n",
       "22   13368    3791  0.077722  0.112656\n",
       "25   53331  149428  0.074946  0.029947\n",
       "48   20467    3717  0.048616  0.025337"
      ]
     },
     "execution_count": 62,
     "metadata": {},
     "output_type": "execute_result"
    }
   ],
   "source": [
    "df_a = pd.read_csv(\"isomap_mappings_2_1.tsv\", sep = \"\\t\")\n",
    "df_b = pd.read_csv(\"isomap_mappings_10_1.tsv\", sep = \"\\t\")\n",
    "\n",
    "df_a_b = pd.merge(df_a, df_b, how=\"outer\", on=[\"human\", \"mouse\"], indicator=True).query('_merge == \"both\"').drop(\"_merge\", axis = 1)\n",
    "df_a_b"
   ]
  },
  {
   "cell_type": "code",
   "execution_count": 37,
   "id": "c227e7b2",
   "metadata": {},
   "outputs": [
    {
     "data": {
      "text/html": [
       "<div>\n",
       "<style scoped>\n",
       "    .dataframe tbody tr th:only-of-type {\n",
       "        vertical-align: middle;\n",
       "    }\n",
       "\n",
       "    .dataframe tbody tr th {\n",
       "        vertical-align: top;\n",
       "    }\n",
       "\n",
       "    .dataframe thead th {\n",
       "        text-align: right;\n",
       "    }\n",
       "</style>\n",
       "<table border=\"1\" class=\"dataframe\">\n",
       "  <thead>\n",
       "    <tr style=\"text-align: right;\">\n",
       "      <th></th>\n",
       "      <th>human</th>\n",
       "      <th>mouse</th>\n",
       "      <th>weight_x</th>\n",
       "      <th>weight_y</th>\n",
       "    </tr>\n",
       "  </thead>\n",
       "  <tbody>\n",
       "  </tbody>\n",
       "</table>\n",
       "</div>"
      ],
      "text/plain": [
       "Empty DataFrame\n",
       "Columns: [human, mouse, weight_x, weight_y]\n",
       "Index: []"
      ]
     },
     "execution_count": 37,
     "metadata": {},
     "output_type": "execute_result"
    }
   ],
   "source": [
    "df_5 = pd.read_csv(\"isomap_mappings_5.tsv\", sep = \"\\t\")\n",
    "df_10 = pd.read_csv(\"isomap_mappings_10.tsv\", sep = \"\\t\")\n",
    "\n",
    "df_5_10 = pd.merge(df_5, df_10, how=\"outer\", on=[\"human\", \"mouse\"], indicator=True).query('_merge == \"both\"').drop(\"_merge\", axis = 1)\n",
    "df_5_10"
   ]
  },
  {
   "cell_type": "code",
   "execution_count": 24,
   "id": "afb517a7",
   "metadata": {
    "collapsed": true
   },
   "outputs": [],
   "source": [
    "# this isorank code takes too much space, so have to optimize this properly\n",
    "def randomized_mapping(n1, n2, n_mapping):\n",
    "    rn1 = np.random.permutation(len(n1))[:n_mapping]\n",
    "    rn2 = np.random.permutation(len(n2))[:n_mapping]\n",
    "    i_mapping = list(zip(rn1, rn2))\n",
    "    mapping   = [(n1[p], n2[q]) for p, q in zip(rn1, rn2)]\n",
    "    return mapping, i_mapping\n",
    "mapping, i_mapping = randomized_mapping(human_nodelist, mouse_nodelist, 50)"
   ]
  },
  {
   "cell_type": "markdown",
   "id": "7a2bbc13",
   "metadata": {},
   "source": [
    "### Hubalign"
   ]
  },
  {
   "cell_type": "code",
   "execution_count": null,
   "id": "60221c92",
   "metadata": {
    "collapsed": true
   },
   "outputs": [],
   "source": [
    "from gmundo.alignment_utils import seq_sim_file_from_refseq_to_entrezgene\n",
    "\n",
    "# Here we convert sequence similarity file from refseq format to entrezgene if needed.\n",
    "# After that the resulting file can be used to improve hubalign network alignment.\n",
    "seq_sim_file_from_refseq_to_entrezgene(\"../data/sequence_similarity/human-mouse/human-mouse-seq-sim-refseq.tsv\", \"../data/sequence_similarity/human-mouse/human-mouse-seq-sim-entrezgene.tsv\", 'MOUSE', 'HUMAN')"
   ]
  },
  {
   "cell_type": "code",
   "execution_count": 9,
   "id": "9108fcb1",
   "metadata": {
    "collapsed": true
   },
   "outputs": [],
   "source": [
    "from gmundo.alignment_utils import read_mapping_from_hubalign_alignment_file\n",
    "\n",
    "# Read mapping of the nodes of 2 different networks from Hubalign network alignment result file. \n",
    "# Alignment itself is performed out of scope of this notebook.\n",
    "mapping, i_mapping = read_mapping_from_hubalign_alignment_file(\"../data/hubalign_files/mouse-human-alignment-seq-sim-0.7\", human_nodelist, mouse_nodelist, 150, is_need_to_swap_columns = True)"
   ]
  },
  {
   "cell_type": "markdown",
   "id": "bd790626",
   "metadata": {},
   "source": [
    "## Coembedding"
   ]
  },
  {
   "cell_type": "code",
   "execution_count": 10,
   "id": "04bf1f51",
   "metadata": {
    "collapsed": true
   },
   "outputs": [],
   "source": [
    "# Computing the DSD matrices for human and mouse\n",
    "# This function takes a lot of time, so I have saved the numpy file to save time\n",
    "from gmundo.linalg import compute_dsd_embedding\n",
    "mouse_dsd  = compute_dsd_embedding(gmouse, mouse_nodelist)\n",
    "human_dsd  = compute_dsd_embedding(ghuman, human_nodelist)"
   ]
  },
  {
   "cell_type": "code",
   "execution_count": 11,
   "id": "70465009",
   "metadata": {
    "collapsed": true
   },
   "outputs": [],
   "source": [
    "import numpy as np\n",
    "np.save(\"human_dsd_emb.npy\", human_dsd)\n",
    "np.save(\"mouse_dsd_emb.npy\", mouse_dsd)\n",
    "#human_dsd = np.load(\"human_dsd_emb.npy\")\n",
    "#mouse_dsd = np.load(\"mouse_dsd_emb.npy\")"
   ]
  },
  {
   "cell_type": "code",
   "execution_count": null,
   "id": "49cfb798",
   "metadata": {
    "collapsed": true
   },
   "outputs": [],
   "source": [
    "from scipy.spatial.distance import squareform, pdist\n",
    "\n",
    "human_dist = squareform(pdist(human_dsd))\n",
    "mouse_dist = squareform(pdist(mouse_dsd))"
   ]
  },
  {
   "cell_type": "code",
   "execution_count": null,
   "id": "094b3649",
   "metadata": {
    "collapsed": true
   },
   "outputs": [],
   "source": [
    "np.save(\"human_dist.npy\", human_dist)\n",
    "np.save(\"mouse_dist.npy\", mouse_dist)\n",
    "#human_dist = np.load(\"human_dist.npy\")\n",
    "#mouse_dist = np.load(\"mouse_dist.npy\")"
   ]
  },
  {
   "cell_type": "code",
   "execution_count": null,
   "id": "eaf923e8",
   "metadata": {
    "collapsed": true
   },
   "outputs": [],
   "source": [
    "from sklearn.metrics.pairwise import laplacian_kernel\n",
    "gamma = 1 / 10\n",
    "human_rbf = laplacian_kernel(human_dist)\n",
    "mouse_rbf = laplacian_kernel(mouse_dist)\n",
    "np.save(\"human_rbf_0.1.npy\", human_rbf)\n",
    "np.save(\"mouse_rbf_0.1.npy\", mouse_rbf)"
   ]
  },
  {
   "cell_type": "code",
   "execution_count": null,
   "id": "cc5683cb",
   "metadata": {
    "collapsed": true
   },
   "outputs": [],
   "source": [
    "from gmundo.coembed import coembed_networks\n",
    "human_rbf = np.load(\"human_rbf_0.1.npy\")\n",
    "mouse_rbf = np.load(\"mouse_rbf_0.1.npy\")\n",
    "# in this case mouse is a target and human is a source organism\n",
    "munk = coembed_networks(human_rbf, mouse_rbf, i_mapping, verbose = True)\n",
    "np.save(\"munk.npy\", munk)"
   ]
  },
  {
   "cell_type": "markdown",
   "id": "2b066f8e",
   "metadata": {},
   "source": [
    "### PREDICTION using MUNK associations computed above"
   ]
  },
  {
   "cell_type": "code",
   "execution_count": 23,
   "id": "a96d9aec",
   "metadata": {},
   "outputs": [
    {
     "name": "stdout",
     "output_type": "stream",
     "text": [
      "HMS:0:00:06.192351 335,350 annotations, 20,702 genes, 18,726 GOs, 1 taxids READ: ../data/go_files/gene2go \n",
      "18674 IDs in loaded association branch, molecular_function\n",
      "  EXISTS: ../data/go_files/go-basic.obo\n",
      "../data/go_files/go-basic.obo: fmt(1.2) rel(2021-12-15) 47,157 Terms; optional_attrs(relationship)\n",
      "Number of GO-terms: 32\n"
     ]
    }
   ],
   "source": [
    "from gmundo.prediction.go_process import get_go_labels\n",
    "\n",
    "filter_label = {\"namespace\": \"molecular_function\", \"min_level\": 5}\n",
    "filter_prot  = {\"namespace\": \"molecular_function\", \"lower_bound\": 50}\n",
    "human_labels, human_go_prots_dict = get_go_labels(filter_prot, filter_label, human_nodelist, \"../data/go_files/gene2go\", \"../data/go_files/go-basic.obo\", 9606, verbose = True)"
   ]
  },
  {
   "cell_type": "code",
   "execution_count": 24,
   "id": "b207fe87",
   "metadata": {},
   "outputs": [
    {
     "name": "stdout",
     "output_type": "stream",
     "text": [
      "HMS:0:00:06.016468 419,936 annotations, 29,777 genes, 18,906 GOs, 1 taxids READ: ../data/go_files/gene2go \n",
      "18880 IDs in loaded association branch, molecular_function\n",
      "  EXISTS: ../data/go_files/go-basic.obo\n",
      "../data/go_files/go-basic.obo: fmt(1.2) rel(2021-12-15) 47,157 Terms; optional_attrs(relationship)\n",
      "Number of GO-terms: 39\n"
     ]
    }
   ],
   "source": [
    "filter_label = {\"namespace\": \"molecular_function\", \"min_level\": 5}\n",
    "filter_prot  = {\"namespace\": \"molecular_function\", \"lower_bound\": 20}\n",
    "mouse_labels, mouse_go_prots_dict = get_go_labels(filter_prot, filter_label, mouse_nodelist, \"../data/go_files/gene2go\", \"../data/go_files/go-basic.obo\", 10090, verbose = True)"
   ]
  },
  {
   "cell_type": "code",
   "execution_count": 25,
   "id": "c86cbddb",
   "metadata": {
    "collapsed": true
   },
   "outputs": [],
   "source": [
    "with open(\"human.json\", \"r\") as hj:\n",
    "    h_entrez_id = json.load(hj)\n",
    "with open(\"mouse.json\", \"r\") as mj:\n",
    "    m_entrez_id = json.load(mj)\n",
    "def get_prot_go_dict(go_prot_dict, entrez_id_map):\n",
    "    prot_go = {}\n",
    "    for l in go_prot_dict:\n",
    "        for p in go_prot_dict[l]:\n",
    "            if entrez_id_map[str(p)] not in prot_go:\n",
    "                prot_go[entrez_id_map[str(p)]] = [l]\n",
    "            else:\n",
    "                prot_go[entrez_id_map[str(p)]].append(l)\n",
    "    return prot_go\n",
    "mouse_prot_go = get_prot_go_dict(mouse_go_prots_dict, m_entrez_id)\n",
    "human_prot_go = get_prot_go_dict(human_go_prots_dict, h_entrez_id)\n"
   ]
  },
  {
   "cell_type": "code",
   "execution_count": 26,
   "id": "13d17493",
   "metadata": {
    "collapsed": true
   },
   "outputs": [],
   "source": [
    "# Construct the target and MUNK maps\n",
    "mouse_rbf = np.load(\"mouse_rbf_0.1.npy\")\n",
    "mouse_neighbors = np.argsort(-mouse_rbf, axis = 1)\n",
    "# Need to discuss this\n",
    "mouse_neighbors = mouse_neighbors[:, :20]"
   ]
  },
  {
   "cell_type": "code",
   "execution_count": 27,
   "id": "2b0b30c4",
   "metadata": {
    "collapsed": true
   },
   "outputs": [],
   "source": [
    "munk  = np.load(\"munk.npy\")\n",
    "munk_neighbors = np.argsort(-munk, axis = 1)\n",
    "munk_neighbors = munk_neighbors[:, :20]\n",
    "\n",
    "def convert_to_dict(npy_neighbors):\n",
    "    ndict = {}\n",
    "    n, _  = npy_neighbors.shape\n",
    "    for i in range(n):\n",
    "        ndict[i] = npy_neighbors[i, :]\n",
    "    return ndict\n",
    "\n",
    "munk_neigh_dict = convert_to_dict(munk_neighbors)\n",
    "mouse_neigh_dict = convert_to_dict(mouse_neighbors)"
   ]
  },
  {
   "cell_type": "code",
   "execution_count": 67,
   "id": "fdd1472c",
   "metadata": {
    "collapsed": true
   },
   "outputs": [],
   "source": [
    "# Constructing a predictor function\n",
    "from gmundo.prediction.predict import mundo_predict\n",
    "def construct_predictor_mundo(target_neighbors, munk_neighbors, source_prot_go, n_neighbors = 20, MUNK_weight = 0.25):\n",
    "    def predictor(target_prot_go):\n",
    "        return mundo_predict(target_neighbors,\n",
    "                             munk_neighbors,\n",
    "                             n_neighbors,\n",
    "                             target_prot_go,\n",
    "                             source_prot_go,\n",
    "                             MUNK_weight)\n",
    "    return predictor"
   ]
  },
  {
   "cell_type": "code",
   "execution_count": 68,
   "id": "7dfe354e",
   "metadata": {
    "collapsed": true
   },
   "outputs": [],
   "source": [
    "from gmundo.prediction.scoring import kfoldcv\n",
    "accs = kfoldcv(5,\n",
    "              mouse_prot_go,\n",
    "              construct_predictor_mundo(mouse_neigh_dict,\n",
    "                                        munk_neigh_dict,\n",
    "                                       human_prot_go)\n",
    "              )"
   ]
  },
  {
   "cell_type": "code",
   "execution_count": 69,
   "id": "be0bb5ef",
   "metadata": {},
   "outputs": [
    {
     "data": {
      "text/plain": [
       "0.26574690516296356"
      ]
     },
     "execution_count": 69,
     "metadata": {},
     "output_type": "execute_result"
    }
   ],
   "source": [
    "np.mean(accs)"
   ]
  },
  {
   "cell_type": "code",
   "execution_count": null,
   "id": "48a28507",
   "metadata": {
    "collapsed": true
   },
   "outputs": [],
   "source": []
  }
 ],
 "metadata": {
  "kernelspec": {
   "display_name": "Python 3 (ipykernel)",
   "language": "python",
   "name": "python3"
  },
  "language_info": {
   "codemirror_mode": {
    "name": "ipython",
    "version": 3
   },
   "file_extension": ".py",
   "mimetype": "text/x-python",
   "name": "python",
   "nbconvert_exporter": "python",
   "pygments_lexer": "ipython3",
   "version": "3.7.12"
  }
 },
 "nbformat": 4,
 "nbformat_minor": 5
}
