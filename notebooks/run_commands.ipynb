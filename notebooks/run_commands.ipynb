{
 "cells": [
  {
   "cell_type": "code",
   "execution_count": 9,
   "metadata": {
    "collapsed": true
   },
   "outputs": [],
   "source": [
    "input_folder=\"../../notebooks/\"\n",
    "output_folder=\"./\"\n",
    "network_source=\"human\"\n",
    "network_target=\"mouse\"\n",
    "go_type=\"F\"\n",
    "n_neigh=20\n",
    "munk_name=\"munk\"\n",
    "src_org_id=9606\n",
    "target_org_id=10090"
   ]
  },
  {
   "cell_type": "code",
   "execution_count": 10,
   "metadata": {},
   "outputs": [
    {
     "name": "stdout",
     "output_type": "stream",
     "text": [
      "python unimundo_main.py --input_folder=../../notebooks/ --output_folder=./ --network_source=human --network_target=mouse --src_org_id=9606 --tar_org_id=10090 --go_type=F --n_neighbors=20 --munk_name=munk\r\n"
     ]
    }
   ],
   "source": [
    "! echo python unimundo_main.py --input_folder={input_folder} --output_folder={output_folder} --network_source={network_source} --network_target={network_target} --src_org_id={src_org_id} --tar_org_id={target_org_id} --go_type={go_type} --n_neighbors={n_neigh} --munk_name={munk_name}"
   ]
  },
  {
   "cell_type": "code",
   "execution_count": null,
   "metadata": {
    "collapsed": true
   },
   "outputs": [],
   "source": []
  }
 ],
 "metadata": {
  "kernelspec": {
   "display_name": "Python 3 (ipykernel)",
   "language": "python",
   "name": "python3"
  },
  "language_info": {
   "codemirror_mode": {
    "name": "ipython",
    "version": 3
   },
   "file_extension": ".py",
   "mimetype": "text/x-python",
   "name": "python",
   "nbconvert_exporter": "python",
   "pygments_lexer": "ipython3",
   "version": "3.7.12"
  }
 },
 "nbformat": 4,
 "nbformat_minor": 2
}
